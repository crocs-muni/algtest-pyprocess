{
 "cells": [
  {
   "cell_type": "markdown",
   "id": "d095d073-e08e-404f-a737-67afbbe1dd7e",
   "metadata": {},
   "source": [
    "# RSA fingerprinting"
   ]
  },
  {
   "cell_type": "code",
   "execution_count": null,
   "id": "0ade12e1-fabf-4dba-9877-664630c644ad",
   "metadata": {},
   "outputs": [],
   "source": [
    "#!python -m venv venv\n",
    "#!source /home/tjaros/Development/python/310/git/algtest-pyprocess/pyprocess-venv/bin/activate.fish\n",
    "#!python -m pip install -r ./requirements.txt\n",
    "#!pip install pandas"
   ]
  },
  {
   "cell_type": "code",
   "execution_count": null,
   "id": "4ee83646-8bbb-4050-890f-69c034754c4b",
   "metadata": {},
   "outputs": [],
   "source": [
    "#!git clone git@github.com:crocs-muni/RSABias.git\n",
    "#!cp ./RSABias/roca.py .\n",
    "#!cp ./RSABias/rsa_fingerprint.py ."
   ]
  },
  {
   "cell_type": "code",
   "execution_count": null,
   "id": "111096c8-b08e-4133-9ab2-f8c623c72db7",
   "metadata": {},
   "outputs": [],
   "source": [
    "from algtestprocess.modules.utilities.rsa_fingerprint import *"
   ]
  },
  {
   "cell_type": "markdown",
   "id": "f66e8b96-c4b1-4292-bcd4-6e73861f4692",
   "metadata": {},
   "source": [
    "### Creation of the metadata.json\n",
    "\n",
    "If you already have the `metadata.json` file you want to use, please skip this step"
   ]
  },
  {
   "cell_type": "code",
   "execution_count": null,
   "id": "b7f8110c-4e69-4b9f-a995-4dad6fee116f",
   "metadata": {},
   "outputs": [],
   "source": [
    "#!python ../process.py tpm metadata-update /home/tjaros/storage/research/tpm/"
   ]
  },
  {
   "cell_type": "markdown",
   "id": "ce95dc03-a56c-4a4f-a94d-2bfdaaea743d",
   "metadata": {},
   "source": [
    "### Load metadata"
   ]
  },
  {
   "cell_type": "code",
   "execution_count": null,
   "id": "5491f745-783a-4bc4-997d-a87c9993bcb1",
   "metadata": {},
   "outputs": [],
   "source": [
    "import json\n",
    "\n",
    "def load_metadata(metadata_path):\n",
    "    try:\n",
    "        metadata = {}\n",
    "        with open(metadata_path, \"r\") as f:\n",
    "            metadata = json.load(f)\n",
    "\n",
    "        assert metadata\n",
    "        entries = metadata[\"entries\"].values()\n",
    "        assert 0 < len(entries)\n",
    "    except:\n",
    "        print(\"report_create: retrieving metadata was unsuccessful\")\n",
    "        return {}\n",
    "\n",
    "    # We now group entries by vendor\n",
    "    grouped = {}\n",
    "    for entry in entries:\n",
    "        vendor = entry.get(\"vendor\")\n",
    "        if vendor is None:\n",
    "            print(\n",
    "                f\"report_create: entry {entry} does not contain vendor\")\n",
    "            continue\n",
    "\n",
    "        grouped.setdefault(vendor, [])\n",
    "        grouped[vendor].append(entry)\n",
    "    return grouped\n",
    "\n",
    "metadata = load_metadata('./metadata.json')"
   ]
  },
  {
   "cell_type": "markdown",
   "id": "2d52063d-d6c8-47b7-8cd0-15ea7195d02c",
   "metadata": {},
   "source": [
    "### Load profiles from vendor\n",
    "Choose the vendor you want to look at below\n"
   ]
  },
  {
   "cell_type": "code",
   "execution_count": null,
   "id": "7e76f4bc-0e7c-4324-9fd8-791834aa85d0",
   "metadata": {},
   "outputs": [],
   "source": [
    "import logging, sys\n",
    "logging.disable(sys.maxsize)"
   ]
  },
  {
   "cell_type": "code",
   "execution_count": null,
   "id": "e2f3f358-ce3c-4b7d-961c-e4aafceec9de",
   "metadata": {},
   "outputs": [],
   "source": [
    "from algtestprocess.modules.data.tpm.manager import TPMProfileManager\n",
    "from algtestprocess.modules.data.tpm.enums import CryptoPropResultCategory as cat\n",
    "\n",
    "cryptoprops = []\n",
    "for tpms in metadata.values():\n",
    "    for entry in tpms:\n",
    "        for measurement_path in entry['measurement paths']:\n",
    "            man = TPMProfileManager(measurement_path)\n",
    "            cpps = man.cryptoprops\n",
    "            if cpps is None:\n",
    "                continue\n",
    "            cryptoprops.append(cpps)"
   ]
  },
  {
   "cell_type": "markdown",
   "id": "041840f2-b133-439e-9037-904b72822c3c",
   "metadata": {},
   "source": [
    "### Merging of profiles for same firmwares"
   ]
  },
  {
   "cell_type": "code",
   "execution_count": null,
   "id": "fd4c5049-aecf-499e-9668-93c88d20af6b",
   "metadata": {},
   "outputs": [],
   "source": [
    "def firmware_name(profile):\n",
    "    return f\"{profile.manufacturer} {profile.firmware_version}\"\n",
    "\n",
    "def group_by_vendor(cpps):\n",
    "    grouped = {}\n",
    "    for cpp in cpps:\n",
    "        manufacturer = cpp.manufacturer\n",
    "        grouped.setdefault(manufacturer, [])\n",
    "        grouped[manufacturer].append(cpp)\n",
    "    return grouped\n",
    "\n",
    "def aggregate_by_firmware(cpps):\n",
    "    aggregated = {}\n",
    "    for cpp in cryptoprops:\n",
    "        if cpp is None:\n",
    "            print(f\"Cannot merge {cpp.firmware_name}, as it is None\")\n",
    "            continue\n",
    "\n",
    "        fwn = firmware_name(cpp)\n",
    "        if fwn not in aggregated:\n",
    "            aggregated.setdefault(fwn, cpp)\n",
    "        else:\n",
    "            aggregated[fwn] = aggregated[fwn] + cpp\n",
    "    return [cpp for cpp in aggregated.values()]\n",
    "    \n",
    "# All tpms in one list\n",
    "tpms = cryptoprops\n",
    "# All tpms grouped by vendor\n",
    "tpms_grouped_by_vendor = group_by_vendor(tpms)\n",
    "# All tpms aggregated by the tpm name\n",
    "tpms_aggregated = aggregate_by_firmware(cryptoprops)\n",
    "# All tpms aggregated by the tpm name and grouped by vendor\n",
    "tpms_aggregated_grouped_by_vendor = group_by_vendor(tpms_aggregated)"
   ]
  },
  {
   "cell_type": "markdown",
   "id": "58451684-a0b4-4157-89ff-38df733dbf98",
   "metadata": {},
   "source": [
    "### Utility functions"
   ]
  },
  {
   "cell_type": "code",
   "execution_count": null,
   "id": "240b0dad-8fae-4323-82e2-37b1ff94bd10",
   "metadata": {},
   "outputs": [],
   "source": [
    "import re\n",
    "from math import inf\n",
    "\n",
    "def tpm_sorted(profiles, device_name):\n",
    "    \"\"\"\n",
    "    Sorts the profiles according to manufacturer id alphabetically, then\n",
    "    firmware version numerically\n",
    "\n",
    "    Assumes device name is in the form of rgx\n",
    "    \"\"\"\n",
    "    RGX = r\"(\\s*.+)+\\s\\s*\\d+(\\.\\d+)*(\\s[\\[]\\d+[\\]])?\"\n",
    "    try:\n",
    "        assert all([re.match(RGX, device_name(p)) is not None for p in profiles])\n",
    "    except AssertionError:\n",
    "        print(\"These device names do not match format\")\n",
    "        print([name for p in profiles if not re.match(RGX, (name := device_name(p)))])\n",
    "\n",
    "    def key_f(profile):\n",
    "        manufacturer = version = idx = inf\n",
    "        numbers = [inf] * 4\n",
    "        l, r = device_name(profile).rsplit(maxsplit=1)\n",
    "\n",
    "        if re.match(r\"[\\[]\\d+[\\]]\", r):\n",
    "            idx = int(r.replace(\"[\", \"\").replace(\"]\", \"\"))\n",
    "            manufacturer, firmware = l.rsplit(maxsplit=1)\n",
    "        else:\n",
    "            manufacturer, firmware = l, r\n",
    "\n",
    "        numbers = [int(x) for x in filter(None, firmware.split(\".\"))]\n",
    "\n",
    "        return [manufacturer] + numbers + [idx]\n",
    "\n",
    "    return sorted(profiles, key=key_f)\n",
    "\n",
    "def _table(l, cols, header):\n",
    "    # header repeat col times\n",
    "    out = \"\"\n",
    "    out += \"| \" + (\" | \".join(header) + \" | \") * cols + \"\\n\"\n",
    "    out += \"| \" + (\"|\".join([\"---\"] * (cols * len(header))) + \" | \") + \"\\n\"\n",
    "\n",
    "    i = 0\n",
    "    while i < len(l):\n",
    "        out += \"| \"\n",
    "        for _ in range(cols):\n",
    "            if i < len(l):\n",
    "                entries = l[i]\n",
    "            else:\n",
    "                entries = [\" \" for _ in range(len(header))]\n",
    "\n",
    "            assert len(entries) == len(header)\n",
    "\n",
    "            out += \" | \".join(map(str, entries)) + \" | \"\n",
    "            i += 1\n",
    "        out += \"\\n\"\n",
    "    return out\n"
   ]
  },
  {
   "cell_type": "markdown",
   "id": "d02bbb8d-9555-467b-a036-cd758dc44dbc",
   "metadata": {},
   "source": [
    "### Visualisating the RSA primes "
   ]
  },
  {
   "cell_type": "code",
   "execution_count": null,
   "id": "a2a18219-2515-4244-a6fd-fa58ba34620c",
   "metadata": {},
   "outputs": [],
   "source": [
    "import matplotlib.pyplot as plt\n",
    "from algtestprocess.modules.visualization.heatmap import Heatmap\n",
    "import matplotlib.lines as mlines\n",
    "import pandas as pd\n",
    "import matplotlib.gridspec as gridspec\n",
    "\n",
    "def firmwarelist2id(firmware_versions):\n",
    "    # First we group the same major version TPMs\n",
    "    firmware_versions = sorted(firmware_versions, key=lambda x: [int(y) for y in x.split('.')])\n",
    "    versions = {}\n",
    "    for fv in firmware_versions:\n",
    "        major = fv.split('.')[0]\n",
    "        if versions.get(major) is None:\n",
    "            versions.setdefault(major, [])\n",
    "        \n",
    "        versions[major].append(fv)\n",
    "        \n",
    "\n",
    "    # Then we start building the result\n",
    "    result = \"\"\n",
    "    for major, entries in versions.items():\n",
    "        if len(result.split('\\n')[0]) > 12:\n",
    "            result += \"\\n\"\n",
    "        \n",
    "        if result != \"\":\n",
    "            result += \" \"\n",
    "        if len(entries) == 1:\n",
    "            result += entries[0]\n",
    "        else:\n",
    "            fst = entries[0].split('.')[1]\n",
    "            lst = entries[-1].split('.')[1]\n",
    "\n",
    "            if fst == lst:\n",
    "                result += f\"{major}.{fst}.X\"\n",
    "            else:\n",
    "                result += f\"{major}.{fst}-{lst}.X\"\n",
    "\n",
    "    return result\n",
    "    \n",
    "    \n",
    "\n",
    "def cpps2fig(cpps, fig, alg, add_fingerprint):\n",
    "    if cpps is None:\n",
    "        return None\n",
    "\n",
    "    result = None \n",
    "    if alg is not None:\n",
    "        result = cpps.results.get(alg)\n",
    "        if result is None:\n",
    "            return None\n",
    "\n",
    "    tpm_name = f\"{cpps.manufacturer}\"\n",
    "    if isinstance(cpps.firmware_version, list):\n",
    "        tpm_name += f\" {firmwarelist2id(cpps.firmware_version)}\"\n",
    "    else:\n",
    "        tpm_name += f\" {cpps.firmware_version}\"\n",
    "\n",
    "    df = None\n",
    "    if alg is None:\n",
    "        # Special case when alg is None means we should merge the rsa dataframes\n",
    "        dfs = []\n",
    "        for alg in [cat.RSA_1024, cat.RSA_2048]:\n",
    "            result = cpps.results.get(alg)\n",
    "            if result is not None:\n",
    "                dfs.append(result.data)\n",
    "        assert dfs != []\n",
    "        df = pd.concat(dfs)\n",
    "    else:\n",
    "        df = result.data\n",
    "\n",
    "    # add the fingerprint analysis results\n",
    "    fp = None\n",
    "    if add_fingerprint:\n",
    "        pqn = df[['p', 'q', 'n']]\n",
    "        # We drop the nan rows\n",
    "        pqn = pqn.dropna(subset=[\"p\", \"q\", \"n\"]).values.tolist()\n",
    "    \n",
    "        fp = RSAFingerprintSet(pqn, recompute_q=True)\n",
    "        fp.compute_fingerprint()\n",
    "        fp = str(fp)\n",
    "        print(fp)\n",
    "\n",
    "    if len(df.dropna(subset=[\"p\", \"n\"])) < 50:\n",
    "        return None\n",
    "    \n",
    "    return Heatmap(df, tpm_name, additional_text=fp, fig=fig, ticks=False, legend=False, parts=['title', 'heatmap', 'text'], part_height_ratios=[1, 0.1], text_font_size = 9, label_values=False).build()\n",
    "\n",
    "def create_multiplot(tpms, nrows, ncols, alg, figsize=(8.3, 11.7), add_fingerprint=False, add_legend=True):\n",
    "    # Creating the figure with a constrained layout to avoid axes overlapping\n",
    "    fig = plt.figure(layout='constrained', figsize=figsize, dpi=800)\n",
    "    #fig.get_layout_engine().set(w_pad=0, h_pad=0, hspace=0, wspace=0)\n",
    "    GridSpec = gridspec.GridSpec(ncols=ncols, nrows=nrows, figure= fig)\n",
    "    subfig_count = ncols * nrows\n",
    "    count = 0\n",
    "    row = 0\n",
    "    col = 0\n",
    "    for cpps in tpms:\n",
    "        if count >= subfig_count:\n",
    "            break\n",
    "        \n",
    "        subfig = fig.add_subfigure(GridSpec[row, col])\n",
    "        subfig.set_facecolor(\"none\")\n",
    "        \n",
    "        if cpps2fig(cpps, subfig, alg, add_fingerprint) is not None:\n",
    "            if col + 1 >= ncols:\n",
    "                row += 1\n",
    "                col  = 0\n",
    "            else:\n",
    "                col += 1\n",
    "            count += 1\n",
    "        else:\n",
    "            print(f\"Plot for {cpps.device_name} failed\")\n",
    "\n",
    "    if add_legend:\n",
    "        # defining legend style and data\n",
    "        green_line = mlines.Line2D([], [], color='green', label='$P_{min}$', linestyle='dashed')\n",
    "        blue_line = mlines.Line2D([], [], color='blue', label='$P_{max}$', linestyle='dashed')\n",
    "        orange_line = mlines.Line2D([], [], color='orange', label='$Q_{min}$', linestyle='dashed')\n",
    "        purple_line = mlines.Line2D([], [], color='purple', label='$Q_{max}$', linestyle='dashed')\n",
    "        skyblue_line = mlines.Line2D([], [], color='black', label='$P=Q$', linestyle='dashed')\n",
    "\n",
    "        fig.legend(handles=[green_line, blue_line, orange_line, purple_line, skyblue_line], loc='lower right', bbox_to_anchor=(1,0), bbox_transform=fig.transFigure, fontsize='x-large')\n",
    "    return fig"
   ]
  },
  {
   "cell_type": "markdown",
   "id": "0a79cad1-f36c-44c0-a975-592d7ffae6f6",
   "metadata": {},
   "source": [
    "## Create the multiplots"
   ]
  },
  {
   "cell_type": "code",
   "execution_count": null,
   "id": "325f9b33-38d5-4dd9-b1ff-0c445df80352",
   "metadata": {},
   "outputs": [],
   "source": [
    "def aggregate_by_implementation(cpps, groups):\n",
    "    compiled_groups = [[re.compile(pattern) for pattern in group] for group in groups]\n",
    "\n",
    "    aggre = [None] * len(groups)\n",
    "    for cpp in cpps:\n",
    "        fwn = firmware_name(cpp)\n",
    "        for i, group in enumerate(compiled_groups):\n",
    "            if any([pattern.match(fwn) is not None for pattern in group]):\n",
    "                if aggre[i] is None:\n",
    "                    aggre[i] = cpp\n",
    "                else:\n",
    "                    aggre[i] += cpp\n",
    "    return aggre"
   ]
  },
  {
   "cell_type": "code",
   "execution_count": null,
   "id": "2f97f768-bd63-46e5-82a1-e6c1a1028e6e",
   "metadata": {},
   "outputs": [],
   "source": [
    "#create_multiplot(tpms_aggregated, 8, 8, cat.RSA_2048, figsize=(22.14, 16.6), add_fingerprint=False)"
   ]
  },
  {
   "cell_type": "markdown",
   "id": "4ef0333b-0767-4529-b7eb-26aee67ba388",
   "metadata": {},
   "source": [
    "### IFX"
   ]
  },
  {
   "cell_type": "code",
   "execution_count": null,
   "id": "d9fed258-3290-46ac-9852-75b947a67ab5",
   "metadata": {},
   "outputs": [],
   "source": [
    "groups = [\n",
    "    [\n",
    "        r'INTC 2\\.0\\..*',           # INTC 2.0.X\n",
    "        r'INTC 10\\.0\\..*',          # INTC 10.0.X\n",
    "        r'INTC 11\\.[0-8]\\..*',      # INTC 11.0-8.X\n",
    "        r'INTC 30[2-3]\\.12\\.0\\.0',  # INTC 302-303.12.0.0\n",
    "    ],\n",
    "    [\n",
    "        r'INTC 40[1-2]\\.1\\..*',     # INTC 40[1-2].1.0.0\n",
    "    ],\n",
    "    [\n",
    "        r'INTC 403\\.1\\.0\\.0',       # INTC 403.1.0.0\n",
    "    ],\n",
    "    [\n",
    "        r'INTC 500\\.1[0-4]\\..*',    # INTC 500.10-14.X\n",
    "        r'INTC 600\\.[71][0-8]*\\..*' # INTC 600.7-18.X\n",
    "    ]\n",
    "]\n",
    "intc_aggre = aggregate_by_implementation(tpms_aggregated, groups)"
   ]
  },
  {
   "cell_type": "code",
   "execution_count": null,
   "id": "594ae5ec-40fd-4f44-bd23-a90bc81bc5dc",
   "metadata": {},
   "outputs": [],
   "source": [
    "f = create_multiplot(intc_aggre, 1, 4, None, figsize=(8.3, 2), add_legend=False)"
   ]
  },
  {
   "cell_type": "code",
   "execution_count": null,
   "id": "f6b35aec-a78d-497d-9362-f31224f0940f",
   "metadata": {},
   "outputs": [],
   "source": [
    "f.savefig(\"intc.pdf\", dpi=300, bbox_inches=\"tight\")"
   ]
  },
  {
   "cell_type": "markdown",
   "id": "39d9b998-3cbe-4bf8-b30f-9bbc0efd50b3",
   "metadata": {},
   "source": [
    "### IFX"
   ]
  },
  {
   "cell_type": "code",
   "execution_count": null,
   "id": "fe064a81-94ba-4bb3-b66b-f27f60863ee3",
   "metadata": {},
   "outputs": [],
   "source": [
    "groups = [\n",
    "    [\n",
    "        r'IFX 5\\.61\\..*',\n",
    "        r'IFX 7\\.40\\..*',\n",
    "        r'IFX 7\\.61\\..*'\n",
    "    ],\n",
    "    [\n",
    "        r'IFX 7\\.6[2-3]\\..*',\n",
    "        r'IFX 5\\.63\\.13\\.6400'\n",
    "\n",
    "    ],\n",
    "    [\n",
    "        r'IFX 7\\.8[3-5]\\..*' \n",
    "    ]\n",
    "]\n",
    "ifx_aggre = aggregate_by_implementation(tpms_aggregated, groups)"
   ]
  },
  {
   "cell_type": "code",
   "execution_count": null,
   "id": "edd41b42-f143-4b72-afc6-fdeb8080be94",
   "metadata": {},
   "outputs": [],
   "source": [
    "f=create_multiplot(ifx_aggre, 1, 4,None, figsize=(8.3, 2), add_legend=False)"
   ]
  },
  {
   "cell_type": "code",
   "execution_count": null,
   "id": "09aeb620-2e64-400a-b6dd-fdb8e1de9b71",
   "metadata": {},
   "outputs": [],
   "source": [
    "f.savefig(\"ifx.pdf\", dpi=300, bbox_inches=\"tight\")"
   ]
  },
  {
   "cell_type": "markdown",
   "id": "89ffa4a8-8333-4bc5-90b9-936a2d2c1de3",
   "metadata": {},
   "source": [
    "### NTC"
   ]
  },
  {
   "cell_type": "code",
   "execution_count": null,
   "id": "f740c39d-d8ab-4bdc-8683-c263afae1557",
   "metadata": {},
   "outputs": [],
   "source": [
    "groups = [\n",
    "    [\n",
    "        r'NTC .*'\n",
    "    ]\n",
    "]\n",
    "ntc_aggre = aggregate_by_implementation(tpms_aggregated, groups)"
   ]
  },
  {
   "cell_type": "code",
   "execution_count": null,
   "id": "d63c220b-b8b8-4645-a975-44a67f3deb09",
   "metadata": {},
   "outputs": [],
   "source": [
    "create_multiplot(ntc_aggre, 1, 1, None, figsize=(2, 2), add_legend=False)"
   ]
  },
  {
   "cell_type": "markdown",
   "id": "1e10db53-d038-4f13-a3a2-11ef4c647ee5",
   "metadata": {},
   "source": [
    "### STM"
   ]
  },
  {
   "cell_type": "code",
   "execution_count": null,
   "id": "cdb78bec-b258-42ce-9550-97dc44b4e238",
   "metadata": {},
   "outputs": [],
   "source": [
    "groups = [\n",
    "    [\n",
    "        r'STM .*'\n",
    "    ]\n",
    "]\n",
    "stm_aggre = aggregate_by_implementation(tpms_aggregated, groups)"
   ]
  },
  {
   "cell_type": "code",
   "execution_count": null,
   "id": "e8a0f1f3-1782-418c-b858-e6fb7eb46580",
   "metadata": {},
   "outputs": [],
   "source": [
    "create_multiplot(stm_aggre, 1, 1, None, figsize=(2, 2), add_legend=False)"
   ]
  },
  {
   "cell_type": "code",
   "execution_count": null,
   "id": "d7fd84a6-cb90-4c5a-aa3d-69840f7187a3",
   "metadata": {},
   "outputs": [],
   "source": [
    "groups = [\n",
    "    [\n",
    "        r'AMD .*'\n",
    "    ],\n",
    "    [\n",
    "        r'NTC .*'\n",
    "    ],\n",
    "    [\n",
    "        r'STM .*'\n",
    "    ]\n",
    "]\n",
    "nsa_aggre = aggregate_by_implementation(tpms_aggregated, groups)"
   ]
  },
  {
   "cell_type": "code",
   "execution_count": null,
   "id": "fbf5da78-330e-466c-89bf-c48236c5ae39",
   "metadata": {},
   "outputs": [],
   "source": [
    "f=create_multiplot(nsa_aggre, 1, 4,None, figsize=(8.3, 2), add_legend=False)"
   ]
  },
  {
   "cell_type": "code",
   "execution_count": null,
   "id": "6a4d8acd-4444-4be8-82d2-82d4bd069a44",
   "metadata": {},
   "outputs": [],
   "source": [
    "f.savefig(\"amd-ntc-stm.pdf\", dpi=300, bbox_inches=\"tight\")"
   ]
  },
  {
   "cell_type": "code",
   "execution_count": null,
   "id": "aefb77cb-025a-4aa7-bfef-0c24200babc9",
   "metadata": {},
   "outputs": [],
   "source": []
  }
 ],
 "metadata": {
  "kernelspec": {
   "display_name": "Python 3 (ipykernel)",
   "language": "python",
   "name": "python3"
  },
  "language_info": {
   "codemirror_mode": {
    "name": "ipython",
    "version": 3
   },
   "file_extension": ".py",
   "mimetype": "text/x-python",
   "name": "python",
   "nbconvert_exporter": "python",
   "pygments_lexer": "ipython3",
   "version": "3.10.12"
  }
 },
 "nbformat": 4,
 "nbformat_minor": 5
}
