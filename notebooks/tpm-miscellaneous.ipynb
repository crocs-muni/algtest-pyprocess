{
 "cells": [
  {
   "cell_type": "markdown",
   "id": "f1dc7fca-1212-4dd3-9153-6d688b4e2dd7",
   "metadata": {},
   "source": [
    "# Miscellaneous \n",
    "In this notebook, we perform some misc. tasks regarding the TPM dataset\n",
    "\n",
    "- Creation of a clean dataset of result files used for analysis\n",
    "- Making table of TPM firmwares we have in our dataset "
   ]
  },
  {
   "cell_type": "markdown",
   "id": "6590580f-5459-4d3a-98dd-e3a290b1b431",
   "metadata": {},
   "source": [
    "First we start with loading the metadata for dataset we already have, which is not cleaned"
   ]
  },
  {
   "cell_type": "code",
   "execution_count": null,
   "id": "9fb9304c-13c1-4bf9-bf1d-6b19ad3aeaac",
   "metadata": {},
   "outputs": [],
   "source": [
    "import json\n",
    "\n",
    "def load_metadata(metadata_path):\n",
    "    try:\n",
    "        metadata = {}\n",
    "        with open(metadata_path, \"r\") as f:\n",
    "            metadata = json.load(f)\n",
    "\n",
    "        assert metadata\n",
    "        entries = metadata[\"entries\"].values()\n",
    "        assert 0 < len(entries)\n",
    "    except:\n",
    "        print(\"report_create: retrieving metadata was unsuccessful\")\n",
    "        return {}\n",
    "\n",
    "    # We now group entries by vendor\n",
    "    grouped = {}\n",
    "    for entry in entries:\n",
    "        vendor = entry.get(\"vendor\")\n",
    "        if vendor is None:\n",
    "            print(\n",
    "                f\"report_create: entry {entry} does not contain vendor\")\n",
    "            continue\n",
    "\n",
    "        grouped.setdefault(vendor, [])\n",
    "        grouped[vendor].append(entry)\n",
    "    return grouped\n",
    "\n",
    "metadata = load_metadata('../metadata.json')"
   ]
  },
  {
   "cell_type": "code",
   "execution_count": null,
   "id": "add5042d-9dda-4ddf-b9be-ac5fc3fbd3f9",
   "metadata": {},
   "outputs": [],
   "source": [
    "metadata.keys()"
   ]
  },
  {
   "cell_type": "markdown",
   "id": "7116f210-e7ff-4148-8a40-23de785447c9",
   "metadata": {},
   "source": [
    "Now what we want to do in order to create a clear dataset of results:\n",
    "\n",
    "- Wry to parse each file using the tools from `algtestprocess`, take note of each missing result and note the paths for results which have to be checked and possibly wont be included to the resulting dataset. This has to be done manually by default we wont remove any results which had some successful results from at least one category: support, performance, or cryptographic properties"
   ]
  },
  {
   "cell_type": "code",
   "execution_count": null,
   "id": "e947cf5a-052c-4c2d-996e-0405cae65d5a",
   "metadata": {},
   "outputs": [],
   "source": [
    "import logging, sys\n",
    "logging.disable(sys.maxsize)"
   ]
  },
  {
   "cell_type": "code",
   "execution_count": null,
   "id": "e2f3f358-ce3c-4b7d-961c-e4aafceec9de",
   "metadata": {},
   "outputs": [],
   "source": [
    "from algtestprocess.modules.data.tpm.manager import TPMProfileManager\n",
    "from algtestprocess.modules.data.tpm.enums import CryptoPropResultCategory as cat\n",
    "\n",
    "cryptoprops = []\n",
    "for vendor in metadata.keys():\n",
    "    for entry in metadata.get(vendor):\n",
    "        tpm_name = entry['TPM name']\n",
    "        for measurement_path in entry['measurement paths']:\n",
    "            man = TPMProfileManager(measurement_path)\n",
    "            performance = man.performance_profile\n",
    "            support = man.support_profile\n",
    "            cpps = man.cryptoprops\n",
    "            assert performance or support or cpps\n",
    "            # By default we cannot remove these kind of results, because even though \n",
    "            # some phase of measurement might have failed or intentionally skipped, \n",
    "            # other however might have Tbeen successful, as such we dont want to lose data.\n",
    "            if performance is None:\n",
    "                print(f\"MISSING - performance profile at {measurement_path}\")\n",
    "            elif len(performance.results) < 10:\n",
    "                print(f\"Suspiciously low number of performance profile entries {len(performance.results)=} at {measurement_path}\")\n",
    "            \n",
    "            if support is None:\n",
    "                print(f\"MISSING - support profile at {measurement_path}\")\n",
    "            elif len(support.results) < 10:\n",
    "                print(f\"Suspiciously low number of support profile entries {len(support.results)=} at {measurement_path}\")\n",
    "\n",
    "            if cpps is None:\n",
    "                print(f\"MISSING - cryptoprops profile at {measurement_path}\")\n",
    "            elif len(cpps.results) < 5:\n",
    "                print(f\"Suspiciously low number of cryptoprops profile entries {len(cpps.results)=} at {measurement_path}\")\n",
    "            "
   ]
  },
  {
   "cell_type": "code",
   "execution_count": null,
   "id": "366f088a-51fd-48d0-8b34-0b02b78932fb",
   "metadata": {},
   "outputs": [],
   "source": [
    "blacklist = []"
   ]
  },
  {
   "cell_type": "markdown",
   "id": "fccdbaf1-29f6-47de-9544-1bb72c447dd2",
   "metadata": {},
   "source": [
    "Now it is assumed that you put all the bad result path into blacklist. We may now create the clean dataset by moving all results and sorting them to folders by manufacturer and firmware version."
   ]
  },
  {
   "cell_type": "code",
   "execution_count": null,
   "id": "5d565c97-dda4-46e6-a5b7-3ec7abce5598",
   "metadata": {},
   "outputs": [],
   "source": [
    "import os\n",
    "import subprocess\n",
    "\n",
    "output_folder = os.path.join('./tpm-dataset/')\n",
    "os.mkdir(output_folder)\n",
    "\n",
    "used_names = set()\n",
    "counter = 0\n",
    "for vendor in metadata.keys():\n",
    "    vendor_folder = os.path.join(output_folder, vendor)\n",
    "    os.mkdir(vendor_folder)\n",
    "    \n",
    "    for entry in metadata.get(vendor):\n",
    "        for measurement_path in entry['measurement paths']:\n",
    "            man = TPMProfileManager(measurement_path)\n",
    "            support = man.support_profile\n",
    "            try:\n",
    "                fw = support.firmware_version\n",
    "                assert support and fw\n",
    "            except:\n",
    "                print(f\"At {measurement_path}, unexpectedly encountered no support profile\")\n",
    "                continue\n",
    "            \n",
    "            firmware_folder = os.path.join(vendor_folder, fw)\n",
    "\n",
    "            assert firmware_folder is not None\n",
    "            if not os.path.exists(firmware_folder):\n",
    "                os.mkdir(firmware_folder)\n",
    "        \n",
    "            folder_name = measurement_path.split('/')[-1]\n",
    "            if folder_name in used_names:\n",
    "                # We have folder named same in the measurements so we must rename it\n",
    "                firmware_folder = os.path.join(firmware_folder, f\"{folder_name}-{fw}-{counter}\")\n",
    "                counter += 1\n",
    "            else:\n",
    "                firmware_folder = os.path.join(firmware_folder, folder_name)\n",
    "\n",
    "            used_names.add(folder_name)\n",
    "\n",
    "            print(f\"Copying {folder_name} to {firmware_folder}\")\n",
    "            subprocess.run(['cp', '-r', measurement_path, firmware_folder])\n",
    "            "
   ]
  },
  {
   "cell_type": "markdown",
   "id": "33728dc7-5c2a-492b-a6c1-a245d8871810",
   "metadata": {},
   "source": [
    "# TPM firmware table\n",
    "- now we create a firmware table out of the results we have cleaned "
   ]
  },
  {
   "cell_type": "code",
   "execution_count": null,
   "id": "655604d8-5218-4bcc-8470-bde1442a425f",
   "metadata": {},
   "outputs": [],
   "source": [
    "#!python ../process.py tpm metadata-update ./tpm-dataset"
   ]
  },
  {
   "cell_type": "code",
   "execution_count": null,
   "id": "bfaf5a15-ebdb-4b7b-a207-60dc7e1b139e",
   "metadata": {},
   "outputs": [],
   "source": [
    "metadata = load_metadata('./metadata.json')"
   ]
  },
  {
   "cell_type": "markdown",
   "id": "95721733-848c-45ff-b82d-baceebfe9240",
   "metadata": {},
   "source": [
    "## Utilities"
   ]
  },
  {
   "cell_type": "code",
   "execution_count": null,
   "id": "aa354e59-e058-4131-8258-92707ead7bf4",
   "metadata": {},
   "outputs": [],
   "source": [
    "import re\n",
    "from math import inf\n",
    "\n",
    "def _table(l, cols, header):\n",
    "    # header repeat col times\n",
    "    out = \"\"\n",
    "    out += \"| \" + (\" | \".join(header) + \" | \") * cols + \"\\n\"\n",
    "    out += \"| \" + (\"|\".join([\"---\"] * (cols * len(header))) + \" | \") + \"\\n\"\n",
    "\n",
    "    i = 0\n",
    "    while i < len(l):\n",
    "        out += \"| \"\n",
    "        for _ in range(cols):\n",
    "            if i < len(l):\n",
    "                entries = l[i]\n",
    "            else:\n",
    "                entries = [\" \" for _ in range(len(header))]\n",
    "\n",
    "            assert len(entries) == len(header)\n",
    "\n",
    "            out += \" | \".join(map(str, entries)) + \" | \"\n",
    "            i += 1\n",
    "        out += \"\\n\"\n",
    "    return out\n",
    "\n",
    "import re\n",
    "from math import inf\n",
    "\n",
    "def tpm_sorted(profiles, device_name):\n",
    "    \"\"\"\n",
    "    Sorts the profiles according to manufacturer id alphabetically, then\n",
    "    firmware version numerically\n",
    "\n",
    "    Assumes device name is in the form of rgx\n",
    "    \"\"\"\n",
    "    RGX = r\"(\\s*.+)+\\s\\s*\\d+(\\.\\d+)*(\\s[\\[]\\d+[\\]])?\"\n",
    "    try:\n",
    "        assert all([re.match(RGX, device_name(p)) is not None for p in profiles])\n",
    "    except AssertionError:\n",
    "        print(\"These device names do not match format\")\n",
    "        print([name for p in profiles if not re.match(RGX, (name := device_name(p)))])\n",
    "\n",
    "    def key_f(profile):\n",
    "        manufacturer = version = idx = inf\n",
    "        numbers = [inf] * 4\n",
    "        l, r = device_name(profile).rsplit(maxsplit=1)\n",
    "\n",
    "        if re.match(r\"[\\[]\\d+[\\]]\", r):\n",
    "            idx = int(r.replace(\"[\", \"\").replace(\"]\", \"\"))\n",
    "            manufacturer, firmware = l.rsplit(maxsplit=1)\n",
    "        else:\n",
    "            manufacturer, firmware = l, r\n",
    "\n",
    "        numbers = [int(x) for x in filter(None, firmware.split(\".\"))]\n",
    "\n",
    "        return [manufacturer] + numbers + [idx]\n",
    "\n",
    "    return sorted(profiles, key=key_f)"
   ]
  },
  {
   "cell_type": "code",
   "execution_count": null,
   "id": "a0daa934-5c5d-41c2-946f-37d1b1c1a5d7",
   "metadata": {},
   "outputs": [],
   "source": [
    "from IPython.display import display, Markdown\n",
    "firmwares = {}\n",
    "fwinfo = {}\n",
    "\n",
    "for vendor in metadata.keys():\n",
    "    for entry in metadata.get(vendor):\n",
    "        for measurement_path in entry['measurement paths']:\n",
    "            man = TPMProfileManager(measurement_path)\n",
    "            support = man.support_profile\n",
    "            cpps = man.cryptoprops\n",
    "            fw = support.firmware_version\n",
    "            firmwares.setdefault(vendor,set())\n",
    "            firmwares[vendor].add(fw)\n",
    "\n",
    "            fwn = f'{vendor} {fw}'\n",
    "            if vendor == \"INTC\" and fw in set(errors.keys()):\n",
    "                fwn = fwn.replace(fw, errors[fw])\n",
    "            \n",
    "            fwinfo.setdefault(fwn, {})\n",
    "\n",
    "            \n",
    "            pt_year = support.results.get('TPM2_PT_YEAR').value\n",
    "            pt_revision = support.results.get('TPM2_PT_REVISION').value\n",
    "            pt_day_of_year = support.results.get('TPM2_PT_DAY_OF_YEAR').value\n",
    "            # Get image tag\n",
    "            image_tag = support.test_info['Image tag'].strip('\" ')\n",
    "            # Check if we have any ecc cryptoprops results\n",
    "            ecc = False\n",
    "            if cpps is not None:\n",
    "                sig_algs = ['ecdsa', 'ecdaa', 'ecschnorr']\n",
    "                supp_algs = {x for x in cpps.results.keys() if any([y in x.value for y in sig_algs])}\n",
    "                ecc = supp_algs != set() and any(\n",
    "                    [res.data is not None and len(res.data.index) > 100  for alg in supp_algs if (res := cpps.results.get(alg)) is not None])\n",
    "            \n",
    "\n",
    "\n",
    "            convert_to_int = lambda x: int(x, 16) if isinstance(x, str) else x\n",
    "            fwinfo[fwn]['Year'] = convert_to_int(pt_year)\n",
    "            fwinfo[fwn]['Day'] = convert_to_int(pt_day_of_year)\n",
    "            fwinfo[fwn]['TPM Revision'] = pt_revision\n",
    "            \n",
    "            fwinfo[fwn].setdefault('Image tag', [])\n",
    "            if image_tag not in fwinfo[fwn]['Image tag']:                                 \n",
    "                fwinfo[fwn]['Image tag'].append(image_tag)\n",
    "            # As to overwrite older results\n",
    "            if fwinfo[fwn].get('ECC') is None or not fwinfo[fwn]['ECC']:\n",
    "                fwinfo[fwn]['ECC'] = ecc \n",
    "        \n",
    "\n",
    "fwinfo"
   ]
  },
  {
   "cell_type": "code",
   "execution_count": null,
   "id": "452e04f3-29ee-428f-9609-4e0dd35a5b5f",
   "metadata": {},
   "outputs": [],
   "source": [
    "def sorted_fws(fws):\n",
    "    return sorted(\n",
    "        fws,\n",
    "        key=lambda x: list(map(int, x.split('.')))\n",
    "    )\n",
    "\n",
    "def delimit_fws(fws, period):\n",
    "    new = []\n",
    "    for i in range(len(fws)):\n",
    "        if i != 0: \n",
    "            new.append(', ')\n",
    "        if i != 0 and i % period == 0:\n",
    "            new.append('<br>')\n",
    "        new.append(fws[i])\n",
    "    return ''.join(new)\n",
    "    "
   ]
  },
  {
   "cell_type": "code",
   "execution_count": null,
   "id": "187c7ed9-adf9-403f-a992-d5ab40693043",
   "metadata": {},
   "outputs": [],
   "source": [
    "# remove wmv\n",
    "del firmwares['VMW']"
   ]
  },
  {
   "cell_type": "code",
   "execution_count": null,
   "id": "1a4a9a2f-6a49-4fba-9ad9-38c4d19f83c7",
   "metadata": {},
   "outputs": [],
   "source": [
    "print(_table([[vendor, delimit_fws(sorted_fws(fws), 5)] for vendor, fws in firmwares.items()], 1, ['Vendor', 'Firmware versions'] ))"
   ]
  },
  {
   "cell_type": "code",
   "execution_count": null,
   "id": "c26574ab-b0be-4eb5-94ee-4b0bc197171e",
   "metadata": {},
   "outputs": [],
   "source": [
    "header = []\n",
    "rows = []\n",
    "for i, (vendor, fws) in enumerate(firmwares.items()):\n",
    "    header.append(vendor)\n",
    "    for j, fw in enumerate(sorted_fws(fws)):\n",
    "        if j >= len(rows):\n",
    "            rows.append([' ']*len(firmwares.keys()))\n",
    "        rows[j][i] = fw\n",
    "\n",
    "display(Markdown(_table(rows, 1, header)))"
   ]
  },
  {
   "cell_type": "markdown",
   "id": "2ffbea52-6057-4498-b28f-b4230d9b5bf8",
   "metadata": {},
   "source": [
    "## Table (vendor, tpm version, tpmalgtest/tpm_pcr used for collection)"
   ]
  },
  {
   "cell_type": "code",
   "execution_count": null,
   "id": "1b77625a-e221-4b52-b9ec-448ce29134b7",
   "metadata": {},
   "outputs": [],
   "source": [
    "tpm_algtest_firmwares = set()\n",
    "\n",
    "for vendor, fws in firmwares.items():\n",
    "    for firmware in fws:\n",
    "        tpm_algtest_firmwares.add(f'{vendor} {firmware}')"
   ]
  },
  {
   "cell_type": "code",
   "execution_count": null,
   "id": "4d66099f-4ea9-40b4-8ae6-bb832833528d",
   "metadata": {},
   "outputs": [],
   "source": [
    "with open('tpm-pcr-metadata.json') as f:\n",
    "    tpm_pcr_metadata = json.load(f)\n",
    "\n",
    "tpm_pcr_firmwares = set(tpm_pcr_metadata.keys())\n",
    "\n",
    "for fwn in tpm_pcr_firmwares:\n",
    "    fwinfo.setdefault(fwn, {})\n",
    "    fwinfo[fwn]['TPM Version']  = tpm_pcr_metadata[fwn]['TPM Version']\n",
    "    fwinfo[fwn]['TPM Revision'] = tpm_pcr_metadata[fwn]['TPM Revision']\n"
   ]
  },
  {
   "cell_type": "code",
   "execution_count": null,
   "id": "65edbed3-8af0-4187-a0be-96d10095ffd5",
   "metadata": {},
   "outputs": [],
   "source": [
    "all_firmwares = tpm_pcr_firmwares | tpm_algtest_firmwares\n",
    "all_firmwares = list(all_firmwares)"
   ]
  },
  {
   "cell_type": "code",
   "execution_count": null,
   "id": "66878239-8918-46b3-8f1b-8097e1aa77cb",
   "metadata": {},
   "outputs": [],
   "source": [
    "print(\"\\\\begin{tabular}{ c c c c}\")\n",
    "print(\"Vendor & Firmware version & Year & TPM Version & TPM Revision & tpm2-algtest & TPM\\\\_PCR \\\\\\\\ \\\\hline\")\n",
    "\n",
    "for fwn in tpm_sorted(all_firmwares, lambda x: x):\n",
    "    vendor, fwv = fwn.split(' ')\n",
    "    \n",
    "    \n",
    "    if fwn in tpm_algtest_firmwares:\n",
    "        tpm_version = '2.0'\n",
    "    elif fwinfo[fwn].get('TPM Version') is not None:\n",
    "        tpm_version = fwinfo[fwn]['TPM Version']\n",
    "    else:\n",
    "        tpm_version = '-'\n",
    "\n",
    "    fwinfo[fwn]['tpm2-algtest'] = fwn in tpm_algtest_firmwares\n",
    "    fwinfo[fwn]['TPM_PCR'] = fwn in tpm_pcr_firmwares\n",
    "        \n",
    "    print(\n",
    "        f\"{vendor} &{fwv} &\"\n",
    "        f\"{fwinfo[fwn]['Year'] if 'Year' in fwinfo[fwn] else '-'} &\"  \n",
    "        f\"{tpm_version} &\"\n",
    "        f\"{fwinfo[fwn]['TPM Revision']} &\"\n",
    "        f\"{'Y' if fwn in tpm_algtest_firmwares else '-'} & \"\n",
    "        f\"{'Y' if fwn in tpm_pcr_firmwares else '-'} \\\\\\\\ \\\\hline \")\n",
    "\n",
    "print(\"\\\\end{tabular}\")"
   ]
  },
  {
   "cell_type": "markdown",
   "id": "9f4becea-be12-482d-9202-33d77b608a0f",
   "metadata": {},
   "source": [
    "### TPM timeline diagram "
   ]
  },
  {
   "cell_type": "code",
   "execution_count": null,
   "id": "d2a0c1b8-7b58-4c62-b673-09d36e61d290",
   "metadata": {},
   "outputs": [],
   "source": [
    "fwinfo"
   ]
  },
  {
   "cell_type": "code",
   "execution_count": null,
   "id": "836f6abe-669d-4649-9ef2-d2d27712902f",
   "metadata": {},
   "outputs": [],
   "source": [
    "with open('firmware-info.json', 'w') as f:\n",
    "    json.dump(fwinfo, f)"
   ]
  },
  {
   "cell_type": "code",
   "execution_count": null,
   "id": "ba327217-0d7d-4974-afc3-fc09ea3935ff",
   "metadata": {},
   "outputs": [],
   "source": []
  },
  {
   "cell_type": "code",
   "execution_count": null,
   "id": "8f98ff77-b63e-4608-9ed6-6a045f6dddec",
   "metadata": {},
   "outputs": [],
   "source": []
  },
  {
   "cell_type": "code",
   "execution_count": null,
   "id": "c43516ed-309b-43ef-ba5e-594dd0073537",
   "metadata": {},
   "outputs": [],
   "source": []
  },
  {
   "cell_type": "code",
   "execution_count": null,
   "id": "6268c8fe-e943-46f3-b132-8ad9f04b5853",
   "metadata": {},
   "outputs": [],
   "source": []
  },
  {
   "cell_type": "code",
   "execution_count": null,
   "id": "450ad7d3-8cdd-4046-a441-f8545f5d6469",
   "metadata": {},
   "outputs": [],
   "source": []
  },
  {
   "cell_type": "code",
   "execution_count": null,
   "id": "bc5f182d-c611-4e41-a45a-09816dce787e",
   "metadata": {},
   "outputs": [],
   "source": []
  }
 ],
 "metadata": {
  "kernelspec": {
   "display_name": "vpyprocess",
   "language": "python",
   "name": "vpyprocess"
  },
  "language_info": {
   "codemirror_mode": {
    "name": "ipython",
    "version": 3
   },
   "file_extension": ".py",
   "mimetype": "text/x-python",
   "name": "python",
   "nbconvert_exporter": "python",
   "pygments_lexer": "ipython3",
   "version": "3.10.12"
  }
 },
 "nbformat": 4,
 "nbformat_minor": 5
}
