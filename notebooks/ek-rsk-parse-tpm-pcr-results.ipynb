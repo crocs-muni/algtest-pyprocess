{
 "cells": [
  {
   "cell_type": "markdown",
   "id": "73c809d9-5dcb-4dec-aada-10a14b45d8d0",
   "metadata": {},
   "source": [
    "# Retrieve EKs collected by TPM PCR tool\n",
    "Since the `tpm2-algtest` success with retrieving EK is not great, we can compensate using results from `TPM_PCR` measurements.\n",
    "\n",
    "The only way to get all the EKs is to parse all `*.txt` files, check if they can be parsed via XML parser, because each of those results is a xml file in disguise. If we are successfull we can further check for TPM firmware version and check if given result contains EK values.\n",
    "\n",
    "As to not do it several times over, the output will be saved conveniently in one `tpm-pcr-metadata.json`"
   ]
  },
  {
   "cell_type": "code",
   "execution_count": 1,
   "id": "298a499e-6255-4e58-b94d-414ad2a1421c",
   "metadata": {},
   "outputs": [],
   "source": [
    "tpm_pcr_path = '/home/tjaros/storage/research/tpm/pcr_windows_results'"
   ]
  },
  {
   "cell_type": "code",
   "execution_count": 2,
   "id": "d73ab0c5-fa15-4fb9-a2e1-8768c80be09f",
   "metadata": {},
   "outputs": [],
   "source": [
    "\n",
    "import os \n",
    "\n",
    "def walk(current_dir, depth):\n",
    "    \"\"\"\n",
    "    Tries to find all the paths for measurement folders\n",
    "\n",
    "    Sentinel of the recursion is finding a txt file \n",
    "\n",
    "    :param current_dir: the directory we process now\n",
    "    :return: list of paths to valid measurement folders\n",
    "    \"\"\"\n",
    "    predicate = lambda x: x.is_file() and '.txt' in x.name\n",
    "\n",
    "    scan = list(os.scandir(current_dir))\n",
    "\n",
    "    if any([predicate(entry) for entry in scan]):\n",
    "        return [current_dir]\n",
    "\n",
    "    if depth <= 0:\n",
    "        return []\n",
    "\n",
    "    result = []\n",
    "    for entry in scan:\n",
    "        if entry.is_dir():\n",
    "            result += walk(entry.path, depth - 1)\n",
    "\n",
    "    return result\n",
    "\n",
    "paths = walk(tpm_pcr_path, 10)"
   ]
  },
  {
   "cell_type": "markdown",
   "id": "fc0e87f7-cbcf-4266-baba-5b7cc104c7da",
   "metadata": {},
   "source": [
    "Now we have a list of directories which contain `*.txt` file, now we need to find one file which we are able to parse via XML parser, and contains EK."
   ]
  },
  {
   "cell_type": "code",
   "execution_count": 3,
   "id": "b7469fcd-3161-44d2-8f06-6238849ac2bc",
   "metadata": {},
   "outputs": [
    {
     "data": {
      "text/plain": [
       "688"
      ]
     },
     "execution_count": 3,
     "metadata": {},
     "output_type": "execute_result"
    }
   ],
   "source": [
    "len(paths)"
   ]
  },
  {
   "cell_type": "code",
   "execution_count": 4,
   "id": "45e178ee-7649-4516-997d-7e7fdde41fe1",
   "metadata": {},
   "outputs": [
    {
     "data": {
      "text/plain": [
       "51"
      ]
     },
     "execution_count": 4,
     "metadata": {},
     "output_type": "execute_result"
    }
   ],
   "source": [
    "from xml.etree import ElementTree as ET\n",
    "import re\n",
    "measurements = {}\n",
    "for path in paths:\n",
    "    scan = list(os.scandir(path))\n",
    "    for entry in scan:\n",
    "        try:\n",
    "            tree = ET.parse(entry.path)\n",
    "        except Exception: # Actually throws ParseError\n",
    "            continue\n",
    "        \n",
    "        # Get root and retrieve EK\n",
    "        root = tree.getroot() \n",
    "        ek = root.find('EK')\n",
    "\n",
    "        # If there is no EK, we continue\n",
    "        if ek is None:\n",
    "            continue\n",
    "        ek = ek.text\n",
    "\n",
    "        # If there is EK, we assume there is RSK\n",
    "        rsk = root.find('RSK')\n",
    "        assert rsk is not None\n",
    "        rsk = rsk.text\n",
    "\n",
    "        # And there MUST be firmware version\n",
    "        fw = root.findall('.//FirmwareVersion')\n",
    "        if fw == []:\n",
    "            print(entry.path)\n",
    "            continue\n",
    "        fw = fw[0].text\n",
    "        fw = fw.replace('  ', ' ')\n",
    "\n",
    "        tpm = root.findall('.//TPM')\n",
    "        tpm_version = None\n",
    "        tpm_revision = None\n",
    "        \n",
    "        if tpm == []:\n",
    "            print(f\"No <TPM> tag found {entry.path}\")\n",
    "        else:\n",
    "            if (res := re.search(r\"TPM-Version:(\\d+\\.\\d+).*Revision:(\\d+\\.\\d+)\", tpm[0].text)) is not None:\n",
    "                tpm_version = res.group(1)\n",
    "                tpm_revision = res.group(2)\n",
    "            \n",
    "\n",
    "        measurements.setdefault(fw, {'TPM Version': tpm_version, 'TPM Revision': tpm_revision,'EK':[], 'RSK': [], 'paths': []})\n",
    "\n",
    "        \n",
    "        if ek not in measurements[fw]['EK'] or rsk not in measurements[fw]['RSK']:\n",
    "            measurements[fw]['EK'].append(ek)\n",
    "            measurements[fw]['RSK'].append(rsk)\n",
    "            measurements[fw]['paths'].append(entry.path)\n",
    "        \n",
    "len(measurements)"
   ]
  },
  {
   "cell_type": "code",
   "execution_count": 5,
   "id": "254e82c4-4692-4e7a-8bcc-775f2415bdf9",
   "metadata": {},
   "outputs": [
    {
     "data": {
      "text/plain": [
       "198"
      ]
     },
     "execution_count": 5,
     "metadata": {},
     "output_type": "execute_result"
    }
   ],
   "source": [
    "sum = 0\n",
    "for values in measurements.values():\n",
    "    sum += len(values['EK'])   \n",
    "sum"
   ]
  },
  {
   "cell_type": "code",
   "execution_count": 6,
   "id": "fe99dbb7-298d-4474-90fd-3425e0139924",
   "metadata": {},
   "outputs": [],
   "source": [
    "import json\n",
    "with open('./tpm-pcr-metadata.json', 'w') as f:\n",
    "    json.dump(measurements, f, indent=4)"
   ]
  },
  {
   "cell_type": "code",
   "execution_count": null,
   "id": "0a4247d4-1f24-4a16-8e84-de98518aa891",
   "metadata": {},
   "outputs": [],
   "source": []
  }
 ],
 "metadata": {
  "kernelspec": {
   "display_name": "Python 3 (ipykernel)",
   "language": "python",
   "name": "python3"
  },
  "language_info": {
   "codemirror_mode": {
    "name": "ipython",
    "version": 3
   },
   "file_extension": ".py",
   "mimetype": "text/x-python",
   "name": "python",
   "nbconvert_exporter": "python",
   "pygments_lexer": "ipython3",
   "version": "3.10.12"
  }
 },
 "nbformat": 4,
 "nbformat_minor": 5
}
