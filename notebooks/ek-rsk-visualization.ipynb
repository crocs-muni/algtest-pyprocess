{
 "cells": [
  {
   "cell_type": "markdown",
   "id": "c6db51ec-cb79-48b1-b21e-44a2a61063b3",
   "metadata": {},
   "source": [
    "# EK and RSK visualizations"
   ]
  },
  {
   "cell_type": "markdown",
   "id": "27e63fb1-81b7-43c3-afd2-a282746e628e",
   "metadata": {},
   "source": [
    "## Utility code"
   ]
  },
  {
   "cell_type": "markdown",
   "id": "26d14a58-cc18-4153-9345-ea7aad405851",
   "metadata": {},
   "source": [
    "### Disable logging"
   ]
  },
  {
   "cell_type": "code",
   "execution_count": null,
   "id": "262cdee1-1079-4d37-a26e-d7952e1e2555",
   "metadata": {},
   "outputs": [],
   "source": [
    "import logging, sys\n",
    "logging.disable(sys.maxsize)"
   ]
  },
  {
   "cell_type": "markdown",
   "id": "786efc0b-766e-492a-8edf-b58eb965f7d9",
   "metadata": {},
   "source": [
    "### Loading the metadata.json"
   ]
  },
  {
   "cell_type": "code",
   "execution_count": null,
   "id": "3d77d3dd-2198-4a7d-98d0-04c70dc91da2",
   "metadata": {},
   "outputs": [],
   "source": [
    "import json\n",
    "\n",
    "def load_metadata(metadata_path):\n",
    "    try:\n",
    "        metadata = {}\n",
    "        with open(metadata_path, \"r\") as f:\n",
    "            metadata = json.load(f)\n",
    "\n",
    "        assert metadata\n",
    "        entries = metadata[\"entries\"].values()\n",
    "        assert 0 < len(entries)\n",
    "    except:\n",
    "        print(\"report_create: retrieving metadata was unsuccessful\")\n",
    "        return {}\n",
    "\n",
    "    # We now group entries by vendor\n",
    "    grouped = {}\n",
    "    for entry in entries:\n",
    "        vendor = entry.get(\"vendor\")\n",
    "        if vendor is None:\n",
    "            print(\n",
    "                f\"report_create: entry {entry} does not contain vendor\")\n",
    "            continue\n",
    "\n",
    "        grouped.setdefault(vendor, [])\n",
    "        grouped[vendor].append(entry)\n",
    "    return grouped\n",
    "\n",
    "metadata = load_metadata('./metadata.json')"
   ]
  },
  {
   "cell_type": "markdown",
   "id": "514f17f1-6ca9-4ddf-9a06-a05b97a7d1d6",
   "metadata": {},
   "source": [
    "### Loading the EKs and RSKs from TPM_PCR measurements"
   ]
  },
  {
   "cell_type": "code",
   "execution_count": null,
   "id": "fe36224c-850a-473d-8764-2a3fdc2644e2",
   "metadata": {},
   "outputs": [],
   "source": [
    "# Load TPM PCR metadata\n",
    "with open('tpm-pcr-metadata.json') as f:\n",
    "    tpm_pcr_metadata = json.load(f)"
   ]
  },
  {
   "cell_type": "markdown",
   "id": "38998bfb-448c-49d8-98da-59e83389b317",
   "metadata": {},
   "source": [
    "### Loading the TPM cryptographic properties profiles"
   ]
  },
  {
   "cell_type": "code",
   "execution_count": null,
   "id": "c0b2bf43-6f68-4791-a599-0614b3a3740a",
   "metadata": {},
   "outputs": [],
   "source": [
    "from algtestprocess.modules.data.tpm.manager import TPMProfileManager\n",
    "from algtestprocess.modules.data.tpm.enums import CryptoPropResultCategory as cat\n",
    "\n",
    "cryptoprops = []\n",
    "for tpms in metadata.values():\n",
    "    for entry in tpms:\n",
    "        for measurement_path in entry['measurement paths']:\n",
    "            man = TPMProfileManager(measurement_path)\n",
    "            cpps = man.cryptoprops\n",
    "            if cpps is None:\n",
    "                continue\n",
    "            cryptoprops.append(cpps)"
   ]
  },
  {
   "cell_type": "markdown",
   "id": "95ae2cb5-5173-4b0b-9196-edc6e8421f71",
   "metadata": {},
   "source": [
    "### Merging of profiles for same firmwares"
   ]
  },
  {
   "cell_type": "code",
   "execution_count": null,
   "id": "fd4c5049-aecf-499e-9668-93c88d20af6b",
   "metadata": {},
   "outputs": [],
   "source": [
    "def firmware_name(profile):\n",
    "    return f\"{profile.manufacturer} {profile.firmware_version}\"\n",
    "\n",
    "def group_by_vendor(cpps):\n",
    "    grouped = {}\n",
    "    for cpp in cpps:\n",
    "        manufacturer = cpp.manufacturer\n",
    "        grouped.setdefault(manufacturer, [])\n",
    "        grouped[manufacturer].append(cpp)\n",
    "    return grouped\n",
    "\n",
    "def aggregate_by_firmware(cpps):\n",
    "    aggregated = {}\n",
    "    for cpp in cryptoprops:\n",
    "        if cpp is None:\n",
    "            print(f\"Cannot merge {cpp.firmware_name}, as it is None\")\n",
    "            continue\n",
    "\n",
    "        fwn = firmware_name(cpp)\n",
    "        if fwn not in aggregated:\n",
    "            aggregated.setdefault(fwn, cpp)\n",
    "        else:\n",
    "            aggregated[fwn] = aggregated[fwn] + cpp\n",
    "    return [cpp for cpp in aggregated.values()]\n",
    "    \n",
    "# All tpms in one list\n",
    "tpms = cryptoprops\n",
    "# All tpms grouped by vendor\n",
    "tpms_grouped_by_vendor = group_by_vendor(tpms)\n",
    "# All tpms aggregated by the tpm name\n",
    "tpms_aggregated = aggregate_by_firmware(cryptoprops)\n",
    "# All tpms aggregated by the tpm name and grouped by vendor\n",
    "tpms_aggregated_grouped_by_vendor = group_by_vendor(tpms_aggregated)"
   ]
  },
  {
   "cell_type": "markdown",
   "id": "d3d230f6-b952-4f97-b347-85851179d313",
   "metadata": {},
   "source": [
    "### Profile sorting utilities"
   ]
  },
  {
   "cell_type": "code",
   "execution_count": null,
   "id": "59001e29-da1e-4769-909b-5b23fb839f8f",
   "metadata": {},
   "outputs": [],
   "source": [
    "import re\n",
    "from math import inf\n",
    "\n",
    "def tpm_sorted(profiles, device_name):\n",
    "    \"\"\"\n",
    "    Sorts the profiles according to manufacturer id alphabetically, then\n",
    "    firmware version numerically\n",
    "\n",
    "    Assumes device name is in the form of rgx\n",
    "    \"\"\"\n",
    "    RGX = r\"(\\s*.+)+\\s\\s*\\d+(\\.\\d+)*(\\s[\\[]\\d+[\\]])?\"\n",
    "    try:\n",
    "        assert all([re.match(RGX, device_name(p)) is not None for p in profiles])\n",
    "    except AssertionError:\n",
    "        print(\"These device names do not match format\")\n",
    "        print([name for p in profiles if not re.match(RGX, (name := device_name(p)))])\n",
    "\n",
    "    def key_f(profile):\n",
    "        manufacturer = version = idx = inf\n",
    "        numbers = [inf] * 4\n",
    "        l, r = device_name(profile).rsplit(maxsplit=1)\n",
    "\n",
    "        if re.match(r\"[\\[]\\d+[\\]]\", r):\n",
    "            idx = int(r.replace(\"[\", \"\").replace(\"]\", \"\"))\n",
    "            manufacturer, firmware = l.rsplit(maxsplit=1)\n",
    "        else:\n",
    "            manufacturer, firmware = l, r\n",
    "\n",
    "        numbers = [int(x) for x in filter(None, firmware.split(\".\"))]\n",
    "\n",
    "        return [manufacturer] + numbers + [idx]\n",
    "\n",
    "    return sorted(profiles, key=key_f)"
   ]
  },
  {
   "cell_type": "markdown",
   "id": "81e3453c-0759-4e4d-95ec-769e4ecae44f",
   "metadata": {},
   "source": [
    "### Firmware name list to identifier"
   ]
  },
  {
   "cell_type": "code",
   "execution_count": null,
   "id": "806bdc9b-f806-4011-b005-1743be76eba1",
   "metadata": {},
   "outputs": [],
   "source": [
    "def firmwarelist2id(firmware_versions):\n",
    "    # First we group the same major version TPMs\n",
    "    firmware_versions = sorted(firmware_versions, key=lambda x: [int(y) for y in x.split('.')])\n",
    "    versions = {}\n",
    "    for fv in firmware_versions:\n",
    "        major = fv.split('.')[0]\n",
    "        if versions.get(major) is None:\n",
    "            versions.setdefault(major, [])\n",
    "        \n",
    "        versions[major].append(fv)\n",
    "        \n",
    "\n",
    "    # Then we start building the result\n",
    "    result = \"\"\n",
    "    for major, entries in versions.items():\n",
    "        if len(result.split('\\n')[0]) > 12:\n",
    "            result += \"\\n\"\n",
    "        \n",
    "        if result != \"\":\n",
    "            result += \" \"\n",
    "        if len(entries) == 1:\n",
    "            result += entries[0]\n",
    "        else:\n",
    "            fst = entries[0].split('.')[1]\n",
    "            lst = entries[-1].split('.')[1]\n",
    "\n",
    "            if fst == lst:\n",
    "                result += f\"{major}.{fst}.X\"\n",
    "            else:\n",
    "                result += f\"{major}.{fst}-{lst}.X\"\n",
    "\n",
    "    # STM specific edit which should not be here\n",
    "    if '1.258-769.X' in result:\n",
    "        result = result.replace('1.258-769.X', '') + ' 1.258-769.X'\n",
    "\n",
    "    return result"
   ]
  },
  {
   "cell_type": "markdown",
   "id": "c863981c-a5db-4054-93a9-bd1d3ce810ac",
   "metadata": {},
   "source": [
    "### Finding improbable EKs\n",
    "\n",
    "Since we sometimes have a sample of 1000 keys generated on-chip or more from one machine together with its EK/RSK, we flag a EK where the most significant byte of it has not appeared in most significant bytes of the 1000 keys generated on-chip."
   ]
  },
  {
   "cell_type": "code",
   "execution_count": null,
   "id": "7d62c97a-cb87-4eac-b01a-61d90dd05ffe",
   "metadata": {},
   "outputs": [],
   "source": [
    "improbable_ek = {}\n",
    "for cpp in tpms:\n",
    "    ek_msb = None\n",
    "    if (result := cpp.results.get(cat.EK_RSA)) is not None:\n",
    "        if (ek := result.data) is not None:\n",
    "            ek_prefix, _ = ek[0]\n",
    "            ek_msb = ek_prefix >> 8\n",
    "\n",
    "    n_msb = None\n",
    "    if (result := cpp.results.get(cat.RSA_2048)) is not None:\n",
    "        if (rsa_df := result.data) is not None:\n",
    "            rsa_df = rsa_df.dropna(subset=[\"p\", \"q\", \"n\"])\n",
    "            n_msb = [x >> x.bit_length() - 8 for x in list(map(lambda x: int(x, 16), rsa_df[\"n\"]))]\n",
    "\n",
    "    fwn = firmware_name(cpp)\n",
    "    \n",
    "    if ek_msb is not None and n_msb is not None:\n",
    "        if ek_msb not in n_msb:\n",
    "            improbable_ek.setdefault(fwn, [])\n",
    "            improbable_ek[fwn].append(ek_msb)      "
   ]
  },
  {
   "cell_type": "markdown",
   "id": "4d3d9781-a4d0-4bcd-9fd2-c21d28b33097",
   "metadata": {},
   "source": [
    "### Add ROCA vulnerable TPMs as improbable EKs\n"
   ]
  },
  {
   "cell_type": "code",
   "execution_count": null,
   "id": "927fe8bc-16a5-4c49-ae30-bbbb2678f5c0",
   "metadata": {},
   "outputs": [],
   "source": [
    "roca_blacklist = [\n",
    "    r'IFX.*7\\.40\\..*',\n",
    "    r'IFX.*7\\.61\\..*',\n",
    "    r'IFX.*5\\.61\\..*',\n",
    "]"
   ]
  },
  {
   "cell_type": "code",
   "execution_count": null,
   "id": "389e620a-03f2-46ba-b27a-6737f9c9192d",
   "metadata": {},
   "outputs": [],
   "source": [
    "\n",
    "for cpp in tpms:\n",
    "    for entry in roca_blacklist:\n",
    "        fwn = firmware_name(cpp)\n",
    "        \n",
    "        if re.match(entry, fwn):\n",
    "            #print(fwn)\n",
    "                \n",
    "            ek_msb = None\n",
    "            if (result := cpp.results.get(cat.EK_RSA)) is not None:\n",
    "                if (ek := result.data) is not None:\n",
    "                    ek_prefix, _ = ek[0]\n",
    "                    ek_msb = ek_prefix >> 8\n",
    "\n",
    "            if ek_msb is not None:\n",
    "                print(f\"Marking value {ek_msb} from {fwn} as improbable EK\")\n",
    "                improbable_ek.setdefault(fwn, [])\n",
    "                improbable_ek[fwn].append(ek_msb)\n",
    "\n",
    "for entry in roca_blacklist:\n",
    "    for fwn, value in tpm_pcr_metadata.items():\n",
    "        if re.match(entry, fwn):\n",
    "            print(fwn)\n",
    "            improbable_ek.setdefault(fwn, [])\n",
    "            improbable_ek[fwn] += [int(x, 16) >> 8 for x in value['EK']]\n",
    "improbable_ek\n",
    "del improbable_ek['NTC 7.2.3.1']"
   ]
  },
  {
   "cell_type": "markdown",
   "id": "b2a1f65e-905f-4356-83dd-5f1daf10a83c",
   "metadata": {},
   "source": [
    "### Bihistogram visualization"
   ]
  },
  {
   "cell_type": "code",
   "execution_count": null,
   "id": "803f2e7e-4738-4d35-86ec-dcd5f86baa7d",
   "metadata": {},
   "outputs": [],
   "source": [
    "import matplotlib.pyplot as plt\n",
    "import matplotlib.lines as mlines\n",
    "import pandas as pd\n",
    "import numpy as np\n",
    "import seaborn as sns\n",
    "import json\n",
    "from copy import copy\n",
    "import re\n",
    "import matplotlib.gridspec as gridspec\n",
    "\n",
    "plt.rcParams.update({\n",
    "    \"text.usetex\": True,\n",
    "    \"ytick.color\" : \"black\",\n",
    "    \"xtick.color\" : \"black\",\n",
    "    \"axes.labelcolor\" : \"black\",\n",
    "    \"axes.edgecolor\" : \"black\",\n",
    "    \"font.family\" : \"serif\",\n",
    "    \"font.serif\" : [\"Computer Modern Serif\"]\n",
    "})\n",
    "\n",
    "def bihist(rsa_df, tpm_name, ek=None, rsk=None, fig=None, ek_hist=False):\n",
    "\n",
    "    gs = gridspec.GridSpec(2, 1, height_ratios=(0.75, 0.25), wspace=0, hspace=0)\n",
    "\n",
    "\n",
    "    \n",
    "    top_hist_ax = fig.add_subplot(gs[0])\n",
    "    top_hist_ax.set_xlim(128, 255)\n",
    "    top_hist_ax.set_xticks([128, 255])\n",
    "    top_hist_ax.locator_params(axis='y', nbins=3)\n",
    "    top_hist_ax.tick_params(labelbottom=False)\n",
    "    top_hist_ax.tick_params(axis='y', which='major', labelsize=7)\n",
    "    top_hist_ax.tick_params(axis='y', which='minor', labelsize=7)\n",
    "    top_hist_ax.set_facecolor('#ffffff')\n",
    "\n",
    "\n",
    "    circles_ax = fig.add_subplot(gs[1])\n",
    "    circles_ax.set_yticks([])\n",
    "    circles_ax.sharex(top_hist_ax)\n",
    "    circles_ax.set_ylim(0, 1)\n",
    "    circles_ax.set_xlabel(\n",
    "        tpm_name,\n",
    "        fontsize=9,\n",
    "        color=\"black\",\n",
    "        fontfamily=\"serif\")\n",
    "    circles_ax.tick_params(left='off', right='off')\n",
    "    circles_ax.set_facecolor('#ffffff')\n",
    "\n",
    "    circles_ax.tick_params(top=False,\n",
    "               bottom=False,\n",
    "               left=False,\n",
    "               right=False,\n",
    "               labelleft=True,\n",
    "               labelbottom=True)\n",
    "\n",
    "    \n",
    "    n_msb = [x >> x.bit_length() - 8 for x in list(map(lambda x: int(x, 16), rsa_df[\"n\"]))]\n",
    "\n",
    "    bins = list(range(128, 257, 1))\n",
    "\n",
    "    top_hist_ax.hist(n_msb, bins=bins,histtype=\"stepfilled\",   color=\"#000000\", ec=\"none\",  density=True, alpha=0.6)\n",
    "\n",
    "    if ek_hist and ek is not None:\n",
    "        top_ek_hist_ax = top_hist_ax.twinx()\n",
    "        sns.histplot(\n",
    "            ek,\n",
    "            alpha=0.2,\n",
    "            bins=127//10,\n",
    "            ax=top_ek_hist_ax,\n",
    "            color=\"#1e88e5\"\n",
    "        )\n",
    "        top_ek_hist_ax.axes.get_yaxis().set_visible(False)\n",
    "\n",
    "        \n",
    "    \n",
    "\n",
    "    ##############################################################################################################\n",
    "    # First we need to extract MSBs from each EK\n",
    "    ek_msb = copy(ek)\n",
    "\n",
    "\n",
    "    # Count the frequency of each value\n",
    "    unique_values, value_counts = np.unique(ek_msb, return_counts=True)\n",
    "\n",
    "    circles_ax.set_yticks([0.25, 0.75], [\"EK\", \"SRK\"], fontsize=7)\n",
    "\n",
    "\n",
    "    \n",
    "    # Create the histogram-like plot with stacked circles\n",
    "    for value, count in zip(unique_values, value_counts):\n",
    "        y_positions = [0.25] * count \n",
    "\n",
    "        if '5.61' in tpm_name:\n",
    "            print(tpm_name, ek)\n",
    "        \n",
    "        color = '#1e88e5'\n",
    "        alpha = 0.40\n",
    "        if (value < min(n_msb) or value > max(n_msb)) or (value not in n_msb and len(n_msb) > 1000) or \\\n",
    "            any([re.match(pattern_entry, tpm_name)for pattern_entry in roca_blacklist]):\n",
    "            print(f\"Marking ek red for {tpm_name}.\")\n",
    "            color = '#d81b60'\n",
    "            alpha = 0.65\n",
    "        \n",
    "        circles_ax.scatter([value] * len(y_positions), y_positions, s=75, marker='o', c=color, alpha=alpha)\n",
    "        \n",
    "    # Lastly print the improbable EKs as red\n",
    "    if (improbable_eks := improbable_ek.get(tpm_name)) is not None:\n",
    "        circles_ax.scatter(improbable_ek[tpm_name], len(improbable_eks)*[0.25], s=75, marker='o', c='#BA0700', alpha=0.5)\n",
    "\n",
    "\n",
    "    #################################################################################################################\n",
    "    # First we need to extract MSBs from each RSK\n",
    "    rsk_msb = rsk\n",
    "    # Count the frequency of each valueB\n",
    "    unique_values, value_counts = np.unique(rsk_msb, return_counts=True)\n",
    "\n",
    "    # Create the histogram-like plot with stacked circles\n",
    "    for value, count in zip(unique_values, value_counts):\n",
    "        y_positions = [0.75] * count \n",
    "\n",
    "        color = '#04ab8f'\n",
    "        alpha = 0.40\n",
    "        if (value < min(n_msb) or value > max(n_msb)) or (value not in n_msb and len(n_msb) > 1000):\n",
    "            color = '#d81b60'\n",
    "            alpha = 0.65\n",
    "        \n",
    "        circles_ax.scatter([value] * len(y_positions), y_positions, s=100, marker='o', c=color, alpha=alpha)\n",
    "        #circles_ax.vlines(value, ymin=0.5, ymax=1, color=\"blue\", lw=1, alpha=0.5)\n",
    "\n",
    "    ###################################################################################################################\n",
    "    RSA_KEY_COUNT = len(n_msb)\n",
    "    EKs_COUNT  = len(ek)\n",
    "    RSKs_COUNT = len(rsk)\n",
    "\n",
    "    title = f\"RSA Keys: {RSA_KEY_COUNT}\"\n",
    "    if EKs_COUNT > 0:\n",
    "        title += f\", EKs: {EKs_COUNT}\"\n",
    "    if RSKs_COUNT > 0:\n",
    "        title += f\", SRKs: {RSKs_COUNT}\"\n",
    "\n",
    "    top_hist_ax.set_title(title, fontsize=7)\n",
    "    \n",
    "    \n",
    "EK_COUNT = 0\n",
    "\n",
    "plutons = [\n",
    "    ('AMD', '6.24.0.6', True, False, True),\n",
    "    ('MSFT', '6.3.1.603', False, True, False)\n",
    "]\n",
    "\n",
    "def cpps2fig(cpps, fig, tpm_pcr_metadata, skip_without_keys=False, ek_hist=False, alg=None):\n",
    "    if cpps is None:\n",
    "        return None\n",
    "\n",
    "    result = None \n",
    "    if alg is not None:\n",
    "        result = cpps.results.get(alg)\n",
    "        if result is None:\n",
    "            return None\n",
    "\n",
    "    # To be able to produce a figure we need both rsa dataframe and rsa EK\n",
    "\n",
    "    rsa_df = None\n",
    "    if alg is None:\n",
    "        # Special case when alg is None means we should merge the rsa dataframes\n",
    "        dfs = []\n",
    "        for alg in [cat.RSA_1024, cat.RSA_2048, cat.RSA_3072]:\n",
    "            result = cpps.results.get(alg)\n",
    "            if result is not None:\n",
    "                dfs.append(result.data)\n",
    "        assert dfs != []\n",
    "        rsa_df = pd.concat(dfs)\n",
    "    else:\n",
    "        rsa_df = result.data\n",
    "    rsa_df = rsa_df.dropna(subset=[\"p\", \"q\", \"n\"])\n",
    "    if len(rsa_df.index) < 1:\n",
    "        return False\n",
    "\n",
    "    # We retrieve our TPM name\n",
    "    tpm_name = f\"{cpps.manufacturer}\"\n",
    "    if isinstance(cpps.firmware_version, str):\n",
    "        tpm_name += f\" {cpps.firmware_version}\"\n",
    "    elif isinstance(cpps.firmware_version, list):\n",
    "        tpm_name += f\" {firmwarelist2id(cpps.firmware_version)}\"\n",
    "    # Temporary solution to label plutons\n",
    "    for man, ver, first, last, add_man in plutons:\n",
    "        if man in tpm_name and ver in tpm_name:\n",
    "            tpm_name = tpm_name.replace(ver, ('\\n' if first else '') +(f\"{man} \" if add_man else '')+ ver + ('\\n' if last else '')+ \" (Pluton)\")\n",
    "\n",
    "    # Now we need to get the EKs collected from tpm2-algtest\n",
    "    # and add the ones found in PCR_TPM measurements\n",
    "    ek = []\n",
    "\n",
    "    # In both cases (agg/non-agg) results contain EK list(tuple(4B prefix, 4B suffix))\n",
    "    if (ek_rsa_result := cpps.results.get(cat.EK_RSA)) is not None:\n",
    "        if (ek_rsa_result_data := ek_rsa_result.data) is not None:\n",
    "            # We take each 2B EK prefix which is comes from unique (prefix, suffix) pair\n",
    "            ek =  [prefix for prefix, _ in list(set(ek_rsa_result_data))]\n",
    "\n",
    "    # Aggregated result, we need to add EKs from all firmwares in TPM PCR measurements\n",
    "    if isinstance(cpps.firmware_version, list):\n",
    "        for fw in cpps.firmware_version:\n",
    "            fwn = f\"{cpps.manufacturer} {fw}\"\n",
    "            if (tpm_pcr_ek := tpm_pcr_metadata.get(fwn)) is not None:\n",
    "                for prefix_string in tpm_pcr_ek['EK']:\n",
    "                    if (prefix := int(prefix_string, 16)) not in ek:\n",
    "                        ek.append(prefix)\n",
    "    \n",
    "    # If we have non-aggregated result\n",
    "    elif (tpm_pcr_ek := tpm_pcr_metadata.get(tpm_name)) is not None:\n",
    "        for prefix_string in tpm_pcr_ek['EK']:\n",
    "            if (prefix := int(prefix_string, 16)) not in ek:\n",
    "                ek.append(prefix)\n",
    "\n",
    "    # We now just convert all the EKs to MSB\n",
    "    ek = [x >> 8 for x in ek]\n",
    "    # Add the count\n",
    "    global EK_COUNT\n",
    "    EK_COUNT += len(ek)\n",
    "\n",
    "    rsk = []\n",
    "    if (tpm_pcr_rsk := tpm_pcr_metadata.get(tpm_name)) is not None:\n",
    "        rsk += [int(x, 16) >> 8 for x in tpm_pcr_rsk['RSK']]\n",
    "\n",
    "    if isinstance(cpps.firmware_version, list):\n",
    "        for fw in cpps.firmware_version:\n",
    "            fwn = f\"{cpps.manufacturer} {fw}\"\n",
    "            if (tpm_pcr_rsk := tpm_pcr_metadata.get(fwn)) is not None:\n",
    "                rsk += [int(x, 16) >> 8 for x in tpm_pcr_rsk['RSK']]\n",
    "            \n",
    "\n",
    "    if rsk == [] and ek == [] and skip_without_keys:\n",
    "        return False\n",
    "    \n",
    "    bihist(rsa_df, tpm_name, ek=ek, rsk=rsk, fig=fig, ek_hist=ek_hist)\n",
    "    return True\n",
    "\n",
    "def create_multiplot(tpms, nrows, ncols, figsize=(8.3, 11.7), subfig_count=None, skip_without_keys=False, ek_hist=[], alg=None):\n",
    "\n",
    "    # Creating the figure with a constrained layout to avoid axes overlapping\n",
    "    fig = plt.figure(layout='constrained', figsize=figsize, dpi=800)\n",
    "    #fig.get_layout_engine().set(w_pad=0, h_pad=0, hspace=0, wspace=0)\n",
    "    GridSpec = gridspec.GridSpec(ncols=ncols, nrows=nrows, figure= fig, hspace=0.1)\n",
    "    subfig_count = ncols * nrows if subfig_count is None else subfig_count\n",
    "    count = 0\n",
    "    row = 0\n",
    "    col = 0\n",
    "    for i,cpps in enumerate(tpms):\n",
    "        if count >= subfig_count:\n",
    "            break\n",
    "        \n",
    "        subfig = fig.add_subfigure(GridSpec[row, col])\n",
    "        subfig.set_facecolor(\"none\")\n",
    "\n",
    "        hist = False\n",
    "        if ek_hist != [] and len(ek_hist) > i:\n",
    "            hist = ek_hist[i]\n",
    "\n",
    "        if cpps2fig(cpps, subfig, tpm_pcr_metadata, skip_without_keys=skip_without_keys, ek_hist=hist, alg=alg):\n",
    "            if col + 1 >= ncols:\n",
    "                row += 1\n",
    "                col  = 0\n",
    "            else:\n",
    "                col += 1\n",
    "            count += 1\n",
    "        else:\n",
    "            print(f\"Plot for {cpps.device_name} failed\")\n",
    "    return fig"
   ]
  },
  {
   "cell_type": "markdown",
   "id": "51ea69b3-9978-494c-9bc7-1a51f571411e",
   "metadata": {},
   "source": [
    "## Aggregated by firmware TPM visualization "
   ]
  },
  {
   "cell_type": "code",
   "execution_count": null,
   "id": "600ff231-7f17-4adc-92b5-28fb09326af9",
   "metadata": {},
   "outputs": [],
   "source": [
    "# Now plot only those with an EK\n",
    "EK_COUNT = 0\n",
    "#create_multiplot(tpms_aggregated, 4, 8, figsize=(22.14, 8.3), skip_without_keys=True)"
   ]
  },
  {
   "cell_type": "code",
   "execution_count": null,
   "id": "c3951b99-2869-4e4c-9e08-aa85ce21c85b",
   "metadata": {},
   "outputs": [],
   "source": [
    "print(f\"Count of Endorsement keys used for visualization: {EK_COUNT}\")"
   ]
  },
  {
   "cell_type": "code",
   "execution_count": null,
   "id": "aa45e963-5780-40ca-9a5d-7d38f4256680",
   "metadata": {},
   "outputs": [],
   "source": [
    "#create_multiplot(tpms_aggregated, 8, 8, figsize=(22.14, 16.6), skip_without_keys=False)"
   ]
  },
  {
   "cell_type": "markdown",
   "id": "bf6b1b01-f3d8-4d87-bb2c-0573fb2298f1",
   "metadata": {},
   "source": [
    "## Aggregated by vendor RSA algorithm implementation"
   ]
  },
  {
   "cell_type": "code",
   "execution_count": null,
   "id": "3951cca8-64ed-485a-b989-e39db3280152",
   "metadata": {},
   "outputs": [],
   "source": [
    "def aggregate_by_implementation(cpps, groups):\n",
    "    compiled_groups = [[re.compile(pattern) for pattern in group] for group in groups]\n",
    "\n",
    "    aggre = [None] * len(groups)\n",
    "    for cpp in cpps:\n",
    "        fwn = firmware_name(cpp)\n",
    "        for i, group in enumerate(compiled_groups):\n",
    "            if any([pattern.match(fwn) is not None for pattern in group]):\n",
    "                if aggre[i] is None:\n",
    "                    aggre[i] = cpp\n",
    "                else:\n",
    "                    aggre[i] += cpp\n",
    "    return aggre"
   ]
  },
  {
   "cell_type": "markdown",
   "id": "3fbe23c2-fb49-4144-8e67-5a5d82c62d98",
   "metadata": {},
   "source": [
    "### INTC"
   ]
  },
  {
   "cell_type": "code",
   "execution_count": null,
   "id": "7bc3d002-b5c5-4732-9b7f-5b300eea9e19",
   "metadata": {},
   "outputs": [],
   "source": [
    "groups = [\n",
    "    [\n",
    "        r'INTC 2\\.0\\..*',           # INTC 2.0.X\n",
    "        r'INTC 10\\.0\\..*',          # INTC 10.0.X\n",
    "        r'INTC 11\\.[0-8]\\..*',      # INTC 11.0-8.X\n",
    "        r'INTC 30[2-3]\\.12\\.0\\.0',  # INTC 302-303.12.0.0\n",
    "    ],\n",
    "    [\n",
    "        r'INTC 40[1-2]\\.1\\..*',     # INTC 40[1-2].1.0.0\n",
    "    ],\n",
    "    [\n",
    "        r'INTC 403\\.1\\.0\\.0',       # INTC 403.1.0.0\n",
    "    ],\n",
    "    [\n",
    "        r'INTC 500\\..*',    # INTC 500.5-14.X\n",
    "        r'INTC 600\\..*'     # INTC 600.7-18.X\n",
    "    ]\n",
    "]"
   ]
  },
  {
   "cell_type": "code",
   "execution_count": null,
   "id": "df2fc6e8-70fa-4943-a8c8-a3053fe0fbf3",
   "metadata": {},
   "outputs": [],
   "source": [
    "intc_aggre = aggregate_by_implementation(tpms_aggregated, groups)"
   ]
  },
  {
   "cell_type": "code",
   "execution_count": null,
   "id": "7bbb05aa-ae2d-41c1-8341-c2e985cb80cf",
   "metadata": {},
   "outputs": [],
   "source": [
    "f = create_multiplot(intc_aggre, 1, 4, figsize=(8.3, 2))"
   ]
  },
  {
   "cell_type": "code",
   "execution_count": null,
   "id": "5699b17a-9339-45f7-adc4-63169ca61e91",
   "metadata": {},
   "outputs": [],
   "source": [
    "f.savefig(\"intc-ek-rsk.pdf\", dpi=300, bbox_inches=\"tight\")"
   ]
  },
  {
   "cell_type": "markdown",
   "id": "e447e584-9f26-40bf-9e2c-7626f1689a89",
   "metadata": {},
   "source": [
    "### IFX"
   ]
  },
  {
   "cell_type": "code",
   "execution_count": null,
   "id": "b097af79-7407-4227-ba2e-cd3187d66927",
   "metadata": {},
   "outputs": [],
   "source": [
    "groups = [\n",
    "    [\n",
    "        r'IFX 5\\.61\\..*',\n",
    "        r'IFX 7\\.40\\..*',\n",
    "        r'IFX 7\\.61\\..*'\n",
    "    ],\n",
    "    [\n",
    "        r'IFX 7\\.6[2-3]\\..*',\n",
    "        r'IFX 5\\.63\\.13\\.6400'\n",
    "\n",
    "    ],\n",
    "    [\n",
    "        r'IFX 7\\.8[3-5]\\..*' \n",
    "    ],\n",
    "]\n",
    "ek_hist=[\n",
    "    False, True, False\n",
    "]"
   ]
  },
  {
   "cell_type": "code",
   "execution_count": null,
   "id": "38329c05-5031-4310-9f6d-093f8004d7c2",
   "metadata": {},
   "outputs": [],
   "source": [
    "ifx_aggre = aggregate_by_implementation(tpms_aggregated, groups)"
   ]
  },
  {
   "cell_type": "code",
   "execution_count": null,
   "id": "277d6304-f485-405f-b443-5bafdd874d91",
   "metadata": {},
   "outputs": [],
   "source": [
    "f = create_multiplot(ifx_aggre, 1, 4, figsize=(8.3, 2), ek_hist=ek_hist)"
   ]
  },
  {
   "cell_type": "code",
   "execution_count": null,
   "id": "5b0ea0f1-f58b-43bb-9388-8d7063c32b4b",
   "metadata": {},
   "outputs": [],
   "source": [
    "f.savefig(\"ifx-ek-rsk.pdf\", dpi=300, bbox_inches=\"tight\")"
   ]
  },
  {
   "cell_type": "markdown",
   "id": "f4e6d9ca-9cd7-4f0e-93d6-2c08e7d2c790",
   "metadata": {},
   "source": [
    "### NTC"
   ]
  },
  {
   "cell_type": "code",
   "execution_count": null,
   "id": "dcf0b12b-b3f0-4229-81c0-32031e53ffb9",
   "metadata": {},
   "outputs": [],
   "source": [
    "groups = [\n",
    "    [\n",
    "        r'NTC 7.2.3.1'\n",
    "    ]\n",
    "]"
   ]
  },
  {
   "cell_type": "code",
   "execution_count": null,
   "id": "9841aace-bae7-41f5-9d36-3755288c3e89",
   "metadata": {},
   "outputs": [],
   "source": [
    "ntc_aggre = aggregate_by_implementation(tpms_aggregated, groups)"
   ]
  },
  {
   "cell_type": "code",
   "execution_count": null,
   "id": "32e2a941-87ea-4686-b730-48d393218aca",
   "metadata": {},
   "outputs": [],
   "source": [
    "f = create_multiplot(ntc_aggre, 1, 1, figsize=(2, 2))"
   ]
  },
  {
   "cell_type": "markdown",
   "id": "e3cbf473-8bc5-482c-bb9e-75dce707cdd4",
   "metadata": {},
   "source": [
    "### STM"
   ]
  },
  {
   "cell_type": "code",
   "execution_count": null,
   "id": "22939c2b-33a4-49aa-a0c5-de4ba6308832",
   "metadata": {},
   "outputs": [],
   "source": [
    "groups = [\n",
    "    [\n",
    "        r'STM .*'\n",
    "    ]\n",
    "]"
   ]
  },
  {
   "cell_type": "code",
   "execution_count": null,
   "id": "332fbd1a-eb9f-4456-890d-f1814e73d4ce",
   "metadata": {},
   "outputs": [],
   "source": [
    "stm_aggre = aggregate_by_implementation(tpms_aggregated, groups)"
   ]
  },
  {
   "cell_type": "code",
   "execution_count": null,
   "id": "94bc63ab-323d-4a8d-89fe-37d26c1a8ddc",
   "metadata": {},
   "outputs": [],
   "source": [
    "create_multiplot(stm_aggre, 1, 1, figsize=(2, 2))"
   ]
  },
  {
   "cell_type": "markdown",
   "id": "27a34195-4652-4b55-806d-a3f4f0717eb9",
   "metadata": {},
   "source": [
    "### AMD"
   ]
  },
  {
   "cell_type": "code",
   "execution_count": null,
   "id": "5d290f18-200e-4754-b514-880c92fdb380",
   "metadata": {},
   "outputs": [],
   "source": [
    "groups = [\n",
    "    [\n",
    "        r'AMD .*'\n",
    "    ]\n",
    "]"
   ]
  },
  {
   "cell_type": "code",
   "execution_count": null,
   "id": "0eafa386-098e-4bf9-b536-8665e3f9a456",
   "metadata": {},
   "outputs": [],
   "source": [
    "amd_aggre = aggregate_by_implementation(tpms_aggregated, groups)"
   ]
  },
  {
   "cell_type": "code",
   "execution_count": null,
   "id": "b9de22b6-7c06-417d-9575-73df67cf73cd",
   "metadata": {},
   "outputs": [],
   "source": [
    "create_multiplot(amd_aggre, 1, 1, figsize=(2, 2))"
   ]
  },
  {
   "cell_type": "markdown",
   "id": "363dbd03-b87b-4963-99f6-ca82accc11c0",
   "metadata": {},
   "source": [
    "## Prepare histogram background for NTC"
   ]
  },
  {
   "cell_type": "code",
   "execution_count": null,
   "id": "e01507da-8d95-444f-b92c-851e4c0991d3",
   "metadata": {},
   "outputs": [],
   "source": [
    "groups = [\n",
    "    [\n",
    "        r'AMD .*'\n",
    "    ],\n",
    "    [\n",
    "        r'NTC .*'\n",
    "    ],\n",
    "    [\n",
    "        r'STM .*'\n",
    "    ],\n",
    "    [\n",
    "        r'MSFT .*'\n",
    "    ]\n",
    "]\n",
    "ek_hist_nsam = [\n",
    "    False,\n",
    "    True,\n",
    "    False,\n",
    "    False\n",
    "]\n",
    "nsam_aggre = aggregate_by_implementation(tpms_aggregated, groups)"
   ]
  },
  {
   "cell_type": "code",
   "execution_count": null,
   "id": "d031f698-18d5-4196-b0a6-53bdaab5835f",
   "metadata": {},
   "outputs": [],
   "source": [
    "f=create_multiplot(nsam_aggre, 1, 4, figsize=(8.3, 2), ek_hist=ek_hist_nsam)"
   ]
  },
  {
   "cell_type": "code",
   "execution_count": null,
   "id": "8a2936f9-b4b5-4ac6-84bf-6c051b1fc35e",
   "metadata": {},
   "outputs": [],
   "source": [
    "f.savefig(\"amd-ntc-stm-msft-ek-rsk.pdf\", dpi=300, bbox_inches=\"tight\")"
   ]
  },
  {
   "cell_type": "markdown",
   "id": "2ed0a4e3-834b-4810-b129-03613c160f58",
   "metadata": {},
   "source": [
    "## IFX 5.63.13.6400 EK distribution\n"
   ]
  },
  {
   "cell_type": "code",
   "execution_count": null,
   "id": "a678f9cf-f617-40a4-a293-c14863ce0671",
   "metadata": {},
   "outputs": [],
   "source": [
    "import seaborn as sns\n",
    "import matplotlib.pyplot as plt\n",
    "\n",
    "profile = None\n",
    "for p in tpms_aggregated:\n",
    "    if p.firmware_version == '5.63.13.6400':\n",
    "        profile = p\n",
    "assert profile is not None\n",
    "\n",
    "ek = [prefix for prefix, _ in list(set(profile.results.get(cat.EK_RSA).data))]\n",
    "\n",
    "for prefix_string in tpm_pcr_metadata['IFX 5.63.13.6400']['EK']:\n",
    "    prefix = int(prefix_string, 16)\n",
    "    if prefix not in ek:\n",
    "        ek.append(prefix)\n",
    "\n",
    "ek = [x >> 8 for x in ek]\n",
    "fix, ax = plt.subplots()\n",
    "\n",
    "print(len(ek))\n",
    "sns.histplot(\n",
    "    ek,\n",
    "    bins=127//10,\n",
    "    stat='density',\n",
    "    ax=ax\n",
    ").set(title='IFX 5.63.13.6400',xlabel='MSB values of modulus $n$')"
   ]
  },
  {
   "cell_type": "code",
   "execution_count": null,
   "id": "71589426-d968-4cc9-9197-dc35ba3fc5f7",
   "metadata": {},
   "outputs": [],
   "source": [
    "import seaborn as sns\n",
    "import matplotlib.pyplot as plt\n",
    "\n",
    "profile = ntc_aggre[0]\n",
    "\n",
    "assert profile is not None\n",
    "\n",
    "ek = [prefix for prefix, _ in list(set(profile.results.get(cat.EK_RSA).data))]\n",
    "\n",
    "for key, entry in tpm_pcr_metadata.items():\n",
    "    if re.match(r\"^NTC .*\", key):\n",
    "        for prefix_string in entry['EK']:\n",
    "            prefix = int(prefix_string, 16)\n",
    "            if prefix not in ek:\n",
    "                ek.append(prefix)\n",
    "\n",
    "ek = [x >> 8 for x in ek]\n",
    "fix, ax = plt.subplots()\n",
    "\n",
    "print(len(ek))\n",
    "\n",
    "sns.histplot(\n",
    "    ek,\n",
    "    bins=127//10,\n",
    "    stat='density',\n",
    "    ax=ax\n",
    ").set(title='NTC 1.3.X 7.2.X',xlabel='MSB values of modulus $n$')"
   ]
  },
  {
   "cell_type": "code",
   "execution_count": null,
   "id": "24b2086e-4996-4bb3-a555-08a2f8bf5a4d",
   "metadata": {},
   "outputs": [],
   "source": []
  },
  {
   "cell_type": "code",
   "execution_count": null,
   "id": "591b6629-b546-43df-aadf-a9dbcfbdfe30",
   "metadata": {},
   "outputs": [],
   "source": []
  },
  {
   "cell_type": "code",
   "execution_count": null,
   "id": "81facc10-3a9f-45bd-b82c-d64c5345b128",
   "metadata": {},
   "outputs": [],
   "source": []
  },
  {
   "cell_type": "code",
   "execution_count": null,
   "id": "7fd3bd24-a96f-4c55-be84-487b7f8324a4",
   "metadata": {},
   "outputs": [],
   "source": []
  },
  {
   "cell_type": "code",
   "execution_count": null,
   "id": "7e6aeaa1-cbd7-4b64-8677-1cbe1c2a0723",
   "metadata": {},
   "outputs": [],
   "source": []
  },
  {
   "cell_type": "code",
   "execution_count": null,
   "id": "75624da8-ff1f-42b2-90ac-1c2c713c8271",
   "metadata": {},
   "outputs": [],
   "source": []
  },
  {
   "cell_type": "code",
   "execution_count": null,
   "id": "06a4dd75-6b2a-4acd-b457-bf880680c808",
   "metadata": {},
   "outputs": [],
   "source": []
  },
  {
   "cell_type": "code",
   "execution_count": null,
   "id": "1208c1c9-5149-4cfb-aafe-569cde4e2b13",
   "metadata": {},
   "outputs": [],
   "source": []
  },
  {
   "cell_type": "code",
   "execution_count": null,
   "id": "d8c07532-fcdc-4459-8b7c-df8ad2402e39",
   "metadata": {},
   "outputs": [],
   "source": []
  },
  {
   "cell_type": "code",
   "execution_count": null,
   "id": "d844581d-1047-4298-988c-942d0b0db3b6",
   "metadata": {},
   "outputs": [],
   "source": []
  },
  {
   "cell_type": "code",
   "execution_count": null,
   "id": "a66f7c5f-d2fa-44e9-b5e2-5a3e04257813",
   "metadata": {},
   "outputs": [],
   "source": []
  },
  {
   "cell_type": "code",
   "execution_count": null,
   "id": "3da89e4f-af32-4b0c-aa99-2e6df47962f7",
   "metadata": {},
   "outputs": [],
   "source": []
  },
  {
   "cell_type": "code",
   "execution_count": null,
   "id": "6c3ddf2a-a99d-41f5-85a7-0bb68f280469",
   "metadata": {},
   "outputs": [],
   "source": []
  },
  {
   "cell_type": "code",
   "execution_count": null,
   "id": "1ef4ad6b-4fd0-4e9a-8314-ba0b54786fb1",
   "metadata": {},
   "outputs": [],
   "source": []
  },
  {
   "cell_type": "code",
   "execution_count": null,
   "id": "0722be33-d5e8-4efd-9370-c33d5b4fe556",
   "metadata": {},
   "outputs": [],
   "source": []
  },
  {
   "cell_type": "code",
   "execution_count": null,
   "id": "690dfaec-3e00-4f85-b0e8-dda9748bd154",
   "metadata": {},
   "outputs": [],
   "source": []
  },
  {
   "cell_type": "code",
   "execution_count": null,
   "id": "f3cd3987-a7ff-4f28-a0d2-555b2deb5bd1",
   "metadata": {},
   "outputs": [],
   "source": []
  },
  {
   "cell_type": "code",
   "execution_count": null,
   "id": "88387b8b-a0f1-4cfb-b905-3c5c5d06f59e",
   "metadata": {},
   "outputs": [],
   "source": []
  },
  {
   "cell_type": "code",
   "execution_count": null,
   "id": "d128cb84-3c27-4fd5-9029-782293e139df",
   "metadata": {},
   "outputs": [],
   "source": []
  },
  {
   "cell_type": "code",
   "execution_count": null,
   "id": "17c5571b-1308-4f0c-8cf7-3cb2cfd7ea48",
   "metadata": {},
   "outputs": [],
   "source": []
  },
  {
   "cell_type": "code",
   "execution_count": null,
   "id": "a53f9cf8-0483-4138-9181-013811dd3b75",
   "metadata": {},
   "outputs": [],
   "source": []
  },
  {
   "cell_type": "code",
   "execution_count": null,
   "id": "68ac43fa-4cea-48b2-9e52-c60715335668",
   "metadata": {},
   "outputs": [],
   "source": []
  },
  {
   "cell_type": "code",
   "execution_count": null,
   "id": "099a1d56-f9d7-49b6-bee1-804d51412364",
   "metadata": {},
   "outputs": [],
   "source": []
  },
  {
   "cell_type": "code",
   "execution_count": null,
   "id": "538b9931-8265-4478-9645-cf8f6d08ea4f",
   "metadata": {},
   "outputs": [],
   "source": []
  },
  {
   "cell_type": "code",
   "execution_count": null,
   "id": "deb89530-3ebf-4840-8275-2549d9dec9e6",
   "metadata": {},
   "outputs": [],
   "source": []
  }
 ],
 "metadata": {
  "kernelspec": {
   "display_name": "vpyprocess",
   "language": "python",
   "name": "vpyprocess"
  },
  "language_info": {
   "codemirror_mode": {
    "name": "ipython",
    "version": 3
   },
   "file_extension": ".py",
   "mimetype": "text/x-python",
   "name": "python",
   "nbconvert_exporter": "python",
   "pygments_lexer": "ipython3",
   "version": "3.10.12"
  }
 },
 "nbformat": 4,
 "nbformat_minor": 5
}
