{
 "cells": [
  {
   "cell_type": "markdown",
   "id": "d095d073-e08e-404f-a737-67afbbe1dd7e",
   "metadata": {},
   "source": [
    "# AlgTest Process TPM 2.0 data visualisation"
   ]
  },
  {
   "cell_type": "markdown",
   "id": "e85a8f88-e6fc-4a12-93f4-b9aa5c25d3fd",
   "metadata": {},
   "source": [
    "An example of TPM visualizations."
   ]
  },
  {
   "cell_type": "code",
   "execution_count": null,
   "id": "0ade12e1-fabf-4dba-9877-664630c644ad",
   "metadata": {},
   "outputs": [],
   "source": [
    "#!python -m venv venv\n",
    "#!source /home/tjaros/git/algtest-pyprocess/.venv/bin/activate.fish\n",
    "#!python -m pip install -r ./requirements.txt"
   ]
  },
  {
   "cell_type": "markdown",
   "id": "f66e8b96-c4b1-4292-bcd4-6e73861f4692",
   "metadata": {},
   "source": [
    "### Creation of the metadata.json\n",
    "\n",
    "If you already have the `metadata.json` file you want to use, please skip this step"
   ]
  },
  {
   "cell_type": "code",
   "execution_count": null,
   "id": "b7f8110c-4e69-4b9f-a995-4dad6fee116f",
   "metadata": {},
   "outputs": [],
   "source": [
    "#!python process.py tpm metadata-update /home/tjaros/storage/research/tpm/"
   ]
  },
  {
   "cell_type": "markdown",
   "id": "ce95dc03-a56c-4a4f-a94d-2bfdaaea743d",
   "metadata": {},
   "source": [
    "### Load metadata"
   ]
  },
  {
   "cell_type": "code",
   "execution_count": null,
   "id": "5491f745-783a-4bc4-997d-a87c9993bcb1",
   "metadata": {},
   "outputs": [],
   "source": [
    "import json\n",
    "\n",
    "def load_metadata(metadata_path):\n",
    "    try:\n",
    "        metadata: ReportMetadata = {}\n",
    "        with open(metadata_path, \"r\") as f:\n",
    "            metadata = json.load(f)\n",
    "\n",
    "        assert metadata\n",
    "        entries = metadata[\"entries\"].values()\n",
    "        assert 0 < len(entries)\n",
    "    except:\n",
    "        print(\"report_create: retrieving metadata was unsuccessful\")\n",
    "        return {}\n",
    "\n",
    "    # We now group entries by vendor\n",
    "    grouped = {}\n",
    "    for entry in entries:\n",
    "        vendor = entry.get(\"vendor\")\n",
    "        if vendor is None:\n",
    "            print(\n",
    "                f\"report_create: entry {entry} does not contain vendor\")\n",
    "            continue\n",
    "\n",
    "        grouped.setdefault(vendor, [])\n",
    "        grouped[vendor].append(entry)\n",
    "    return grouped\n",
    "\n",
    "metadata = load_metadata('./metadata.json')"
   ]
  },
  {
   "cell_type": "markdown",
   "id": "2d52063d-d6c8-47b7-8cd0-15ea7195d02c",
   "metadata": {},
   "source": [
    "### Load profiles from vendor"
   ]
  },
  {
   "cell_type": "code",
   "execution_count": null,
   "id": "e2f3f358-ce3c-4b7d-961c-e4aafceec9de",
   "metadata": {},
   "outputs": [],
   "source": [
    "from algtestprocess.modules.data.tpm.manager import TPMProfileManager\n",
    "from algtestprocess.modules.data.tpm.enums import CryptoPropResultCategory as cat\n",
    "\n",
    "cryptoprops = {}\n",
    "for entry in metadata.get('INTC'):\n",
    "    tpm_name = entry['TPM name']\n",
    "    for measurement_path in entry['measurement paths']:\n",
    "        man = TPMProfileManager(measurement_path)\n",
    "        cryptoprops[tpm_name] = man.cryptoprops"
   ]
  },
  {
   "cell_type": "markdown",
   "id": "b2c76c81-5a50-4daf-9edb-b3a013f1c09f",
   "metadata": {},
   "source": [
    "### Merge the dataframes for same devices"
   ]
  },
  {
   "cell_type": "code",
   "execution_count": null,
   "id": "8fb1e28d-baa8-46f9-ab1a-55bb0854e326",
   "metadata": {},
   "outputs": [],
   "source": [
    "tpms = {}\n",
    "for tpm_name, cpp in cryptoprops.items():\n",
    "    if tpm_name not in tpms:\n",
    "        tpms.setdefault(tpm_name, cpp)\n",
    "    else:\n",
    "        tpms[tpm_name] = tpms[tpm_name] + cpp"
   ]
  },
  {
   "cell_type": "code",
   "execution_count": null,
   "id": "240b0dad-8fae-4323-82e2-37b1ff94bd10",
   "metadata": {},
   "outputs": [],
   "source": [
    "import re\n",
    "from math import inf\n",
    "\n",
    "def tpm_sorted(profiles, device_name):\n",
    "    \"\"\"\n",
    "    Sorts the profiles according to manufacturer id alphabetically, then\n",
    "    firmware version numerically\n",
    "\n",
    "    Assumes device name is in the form of rgx\n",
    "    \"\"\"\n",
    "    RGX = r\"(\\s*.+)+\\s\\s*\\d+(\\.\\d+)*(\\s[\\[]\\d+[\\]])?\"\n",
    "    try:\n",
    "        assert all([re.match(RGX, device_name(p)) is not None for p in profiles])\n",
    "    except AssertionError:\n",
    "        print(\"These device names do not match format\")\n",
    "        print([name for p in profiles if not re.match(RGX, (name := device_name(p)))])\n",
    "\n",
    "    def key_f(profile):\n",
    "        manufacturer = version = idx = inf\n",
    "        numbers = [inf] * 4\n",
    "        l, r = device_name(profile).rsplit(maxsplit=1)\n",
    "\n",
    "        if re.match(r\"[\\[]\\d+[\\]]\", r):\n",
    "            idx = int(r.replace(\"[\", \"\").replace(\"]\", \"\"))\n",
    "            manufacturer, firmware = l.rsplit(maxsplit=1)\n",
    "        else:\n",
    "            manufacturer, firmware = l, r\n",
    "\n",
    "        numbers = [int(x) for x in filter(None, firmware.split(\".\"))]\n",
    "\n",
    "        return [manufacturer] + numbers + [idx]\n",
    "\n",
    "    return sorted(profiles, key=key_f)\n",
    "\n",
    "def _table(l, cols, header):\n",
    "    # header repeat col times\n",
    "    out = \"\"\n",
    "    out += \"| \" + (\" | \".join(header) + \" | \") * cols + \"\\n\"\n",
    "    out += \"| \" + (\"|\".join([\"---\"] * (cols * len(header))) + \" | \") + \"\\n\"\n",
    "\n",
    "    i = 0\n",
    "    while i < len(l):\n",
    "        out += \"| \"\n",
    "        for _ in range(cols):\n",
    "            if i < len(l):\n",
    "                entries = l[i]\n",
    "            else:\n",
    "                entries = [\" \" for _ in range(len(header))]\n",
    "\n",
    "            assert len(entries) == len(header)\n",
    "\n",
    "            out += \" | \".join(map(str, entries)) + \" | \"\n",
    "            i += 1\n",
    "        out += \"\\n\"\n",
    "    return out"
   ]
  },
  {
   "cell_type": "code",
   "execution_count": null,
   "id": "6b540461-4266-46ea-a1d9-91aaa475c790",
   "metadata": {},
   "outputs": [],
   "source": [
    "from IPython.display import display, Markdown\n",
    "# If you find false, it would be wise to check metadata for the corresponding files, as to \n",
    "# why it was not possible to load the cryptoprops\n",
    "display(Markdown(_table(list(map(lambda x: [x[0], x[1] is not None], tpms.items())), 2, ['TPM Name', 'Profile object']))) "
   ]
  },
  {
   "cell_type": "code",
   "execution_count": null,
   "id": "a27e9b8b-7229-416d-8e33-d04d4500baf4",
   "metadata": {},
   "outputs": [],
   "source": [
    "# Here is the sorted order of tpms, to polish according to actual versions u need \n",
    "# to sort them manually.\n",
    "# NOTE: We sort only according to MANUFACTURER FIRMWARE_VERSION\n",
    "tpms_sorted = tpm_sorted(list(filter(None, tpms.values())), lambda cpps: f\"{cpps.manufacturer} {cpps.firmware_version}\")\n",
    "display(Markdown(_table(list(map(lambda x: [x[0], x[1].device_name, x[1].results.get(cat.RSA_1024) is not None, x[1].results.get(cat.RSA_2048) is not None], enumerate(tpms_sorted))), 1, ['Index', 'TPM Name', 'RSA 1024', 'RSA 2048']))) "
   ]
  },
  {
   "cell_type": "code",
   "execution_count": null,
   "id": "611030f7-fa08-4bc3-b77c-f5b9987859c5",
   "metadata": {},
   "outputs": [],
   "source": [
    "tpms = tpms_sorted"
   ]
  },
  {
   "cell_type": "code",
   "execution_count": null,
   "id": "a2a18219-2515-4244-a6fd-fa58ba34620c",
   "metadata": {},
   "outputs": [],
   "source": [
    "import matplotlib.pyplot as plt\n",
    "from algtestprocess.modules.visualization.heatmap import Heatmap\n",
    "import matplotlib.gridspec as gridspec\n",
    "\n",
    "# Creating the figure with a constrained layout to avoid axes overlapping\n",
    "fig = plt.figure(layout='constrained', figsize=(8.3, 11.7), dpi=800)\n",
    "fig.get_layout_engine().set(w_pad=0, h_pad=0, hspace=0,\n",
    "                            wspace=0)\n",
    "# Creating a gridspec of size= (2,3)\n",
    "ncols = 4\n",
    "nrows = 6\n",
    "GridSpec = gridspec.GridSpec(ncols=ncols, nrows=nrows, figure= fig)\n",
    "subfig_count = ncols * nrows\n",
    "\n",
    "def cpps2fig(cpps, fig):\n",
    "    if cpps is None:\n",
    "        return None\n",
    "\n",
    "    result = cpps.results.get(cat.RSA_2048)\n",
    "    if result is None:\n",
    "        return None\n",
    "\n",
    "    tpm_name = cpps.device_name\n",
    "    df = result.data\n",
    "    return Heatmap(df, tpm_name, fig=fig, ticks=False, legend=False, parts=['heatmap', 'text'], part_height_ratios=[1, 0.1], text_font_size = 9, label_values=False).build()\n",
    "\n",
    "count = 0\n",
    "row = 0\n",
    "col = 0\n",
    "for cpps in tpms:\n",
    "    if count >= subfig_count:\n",
    "        break\n",
    "    \n",
    "    subfig = fig.add_subfigure(GridSpec[row, col])\n",
    "    if cpps2fig(cpps, subfig) is not None:\n",
    "        if col + 1 >= ncols:\n",
    "            row += 1\n",
    "            col  = 0\n",
    "        else:\n",
    "            col += 1\n",
    "        count += 1\n",
    "    else:\n",
    "        print(f\"Plot for {cpps.device_name} failed\")\n",
    "    \n",
    "import matplotlib.lines as mlines\n",
    "import matplotlib.pyplot as plt\n",
    "# defining legend style and data\n",
    "green_line = mlines.Line2D([], [], color='green', label='$P_{min}$')\n",
    "blue_line = mlines.Line2D([], [], color='blue', label='$P_{max}$')\n",
    "orange_line = mlines.Line2D([], [], color='orange', label='$Q_{min}$')\n",
    "purple_line = mlines.Line2D([], [], color='purple', label='$Q_{max}$')\n",
    "skyblue_line = mlines.Line2D([], [], color='skyblue', label='$P=Q$')\n",
    "\n",
    "plt.legend(handles=[green_line, blue_line, orange_line, purple_line, skyblue_line], loc=(1.5,1), fontsize='x-large')\n",
    "plt.show()"
   ]
  }
 ],
 "metadata": {
  "kernelspec": {
   "display_name": "Python 3 (ipykernel)",
   "language": "python",
   "name": "python3"
  },
  "language_info": {
   "codemirror_mode": {
    "name": "ipython",
    "version": 3
   },
   "file_extension": ".py",
   "mimetype": "text/x-python",
   "name": "python",
   "nbconvert_exporter": "python",
   "pygments_lexer": "ipython3",
   "version": "3.11.3"
  }
 },
 "nbformat": 4,
 "nbformat_minor": 5
}
